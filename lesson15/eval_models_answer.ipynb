{
 "cells": [
  {
   "cell_type": "code",
   "execution_count": 32,
   "metadata": {},
   "outputs": [],
   "source": [
    "import json\n",
    "from langchain_openai import OpenAI\n",
    "from langchain.prompts import ChatPromptTemplate\n",
    "from langchain_community.llms import LlamaCpp\n",
    "import pandas as pd\n",
    "import yaml\n",
    "import os\n",
    "from tqdm.auto import tqdm"
   ]
  },
  {
   "cell_type": "code",
   "execution_count": 7,
   "metadata": {},
   "outputs": [],
   "source": [
    "with open('secrets.yaml', 'r') as f:\n",
    "    secrets = yaml.safe_load(f)\n",
    "\n",
    "openai_key = secrets['openai_key']"
   ]
  },
  {
   "cell_type": "code",
   "execution_count": 8,
   "metadata": {},
   "outputs": [],
   "source": [
    "template = \"\"\"You are provided text, question and list of answers. You need to select the correct answer for the given question. The correct answer is the one that is most relevant to the question.\n",
    "Return the index of the correct answer. Your answer should be a number 1 or 2. Do not include any other information in your answer.\n",
    "\n",
    "text: {text}\n",
    "\n",
    "question: {question}\n",
    "\n",
    "list of answers:\n",
    "1: {answer1}\n",
    "2: {answer2}\n",
    "Answer: \"\"\""
   ]
  },
  {
   "cell_type": "code",
   "execution_count": 9,
   "metadata": {},
   "outputs": [],
   "source": [
    "prompt = ChatPromptTemplate.from_template(template)"
   ]
  },
  {
   "cell_type": "code",
   "execution_count": 10,
   "metadata": {},
   "outputs": [],
   "source": [
    "llm = OpenAI(api_key=openai_key)"
   ]
  },
  {
   "cell_type": "code",
   "execution_count": 11,
   "metadata": {},
   "outputs": [],
   "source": [
    "eval_chain = prompt | llm"
   ]
  },
  {
   "cell_type": "code",
   "execution_count": 12,
   "metadata": {},
   "outputs": [],
   "source": [
    "text = \"Bleach: Hell Verse (Japanese: BLEACH , Hepburn: BurÄ«chi Jigoku-Hen) is a 2010 Japanese animated film directed by Noriyuki Abe.\"\n",
    "question = \"Who directed Bleach: Hell Verse?\"\n",
    "answer1 = \"Noriyuki Abe\"\n",
    "answer2 = \"Bleach: Hell Verse is a 2010 Japanese animated film directed by Noriyuki Abe.\"\n"
   ]
  },
  {
   "cell_type": "code",
   "execution_count": 13,
   "metadata": {},
   "outputs": [
    {
     "data": {
      "text/plain": [
       "'1'"
      ]
     },
     "execution_count": 13,
     "metadata": {},
     "output_type": "execute_result"
    }
   ],
   "source": [
    "res = eval_chain.invoke({\"text\": text, \"question\": question, \"answer1\": answer1, \"answer2\": answer2})\n",
    "res"
   ]
  },
  {
   "cell_type": "markdown",
   "metadata": {},
   "source": [
    "# Сравнение резльутатов"
   ]
  },
  {
   "cell_type": "markdown",
   "metadata": {},
   "source": [
    "- Сравниваем Rag_0 и серию [cosine_reranked_ft, cosine_reranked_ftpp, cosine_reranked_gt]\n",
    "- Сравниваем тольк те, в ответах которых есть различия\n",
    "- Сравнивать со стороым подходом реранжирования (llm) нет смысла, так как он нигде не менял"
   ]
  },
  {
   "cell_type": "code",
   "execution_count": 40,
   "metadata": {},
   "outputs": [
    {
     "name": "stdout",
     "output_type": "stream",
     "text": [
      "movie cosine_reranked_ft\n"
     ]
    },
    {
     "name": "stderr",
     "output_type": "stream",
     "text": [
      "100%|██████████| 41/41 [00:16<00:00,  2.48it/s]\n"
     ]
    },
    {
     "name": "stdout",
     "output_type": "stream",
     "text": [
      "movie cosine_reranked_ftpp\n"
     ]
    },
    {
     "name": "stderr",
     "output_type": "stream",
     "text": [
      "100%|██████████| 41/41 [00:15<00:00,  2.63it/s]\n"
     ]
    },
    {
     "name": "stdout",
     "output_type": "stream",
     "text": [
      "movie cosine_reranked_gt\n"
     ]
    },
    {
     "name": "stderr",
     "output_type": "stream",
     "text": [
      "100%|██████████| 41/41 [00:15<00:00,  2.60it/s]\n"
     ]
    },
    {
     "name": "stdout",
     "output_type": "stream",
     "text": [
      "computer cosine_reranked_ft\n"
     ]
    },
    {
     "name": "stderr",
     "output_type": "stream",
     "text": [
      "  9%|▉         | 2/22 [00:00<00:06,  3.23it/s]"
     ]
    },
    {
     "name": "stdout",
     "output_type": "stream",
     "text": [
      "Error parse llm output: 2\n",
      "\n"
     ]
    },
    {
     "name": "stderr",
     "output_type": "stream",
     "text": [
      "100%|██████████| 22/22 [00:08<00:00,  2.59it/s]\n"
     ]
    },
    {
     "name": "stdout",
     "output_type": "stream",
     "text": [
      "computer cosine_reranked_ftpp\n"
     ]
    },
    {
     "name": "stderr",
     "output_type": "stream",
     "text": [
      "100%|██████████| 22/22 [00:08<00:00,  2.48it/s]\n"
     ]
    },
    {
     "name": "stdout",
     "output_type": "stream",
     "text": [
      "computer cosine_reranked_gt\n"
     ]
    },
    {
     "name": "stderr",
     "output_type": "stream",
     "text": [
      "100%|██████████| 22/22 [00:07<00:00,  2.85it/s]\n"
     ]
    },
    {
     "name": "stdout",
     "output_type": "stream",
     "text": [
      "nature cosine_reranked_ft\n"
     ]
    },
    {
     "name": "stderr",
     "output_type": "stream",
     "text": [
      "100%|██████████| 38/38 [00:15<00:00,  2.51it/s]\n"
     ]
    },
    {
     "name": "stdout",
     "output_type": "stream",
     "text": [
      "nature cosine_reranked_ftpp\n"
     ]
    },
    {
     "name": "stderr",
     "output_type": "stream",
     "text": [
      "100%|██████████| 38/38 [00:15<00:00,  2.53it/s]\n"
     ]
    },
    {
     "name": "stdout",
     "output_type": "stream",
     "text": [
      "nature cosine_reranked_gt\n"
     ]
    },
    {
     "name": "stderr",
     "output_type": "stream",
     "text": [
      "  3%|▎         | 1/38 [00:00<00:17,  2.06it/s]"
     ]
    },
    {
     "name": "stdout",
     "output_type": "stream",
     "text": [
      "Error parse llm output: 1: Sapotaceae\n"
     ]
    },
    {
     "name": "stderr",
     "output_type": "stream",
     "text": [
      "100%|██████████| 38/38 [00:15<00:00,  2.53it/s]\n"
     ]
    },
    {
     "data": {
      "text/plain": [
       "[{'domain': 'movie',\n",
       "  'algorithm': 'cosine_reranked_ft',\n",
       "  'total_rows': 214,\n",
       "  'diff_rows': 41,\n",
       "  'rag_better_count': 27,\n",
       "  'reranked_better_count': 14,\n",
       "  'unknown_count': 0},\n",
       " {'domain': 'movie',\n",
       "  'algorithm': 'cosine_reranked_ftpp',\n",
       "  'total_rows': 214,\n",
       "  'diff_rows': 41,\n",
       "  'rag_better_count': 24,\n",
       "  'reranked_better_count': 17,\n",
       "  'unknown_count': 0},\n",
       " {'domain': 'movie',\n",
       "  'algorithm': 'cosine_reranked_gt',\n",
       "  'total_rows': 214,\n",
       "  'diff_rows': 41,\n",
       "  'rag_better_count': 26,\n",
       "  'reranked_better_count': 15,\n",
       "  'unknown_count': 0},\n",
       " {'domain': 'computer',\n",
       "  'algorithm': 'cosine_reranked_ft',\n",
       "  'total_rows': 62,\n",
       "  'diff_rows': 22,\n",
       "  'rag_better_count': 15,\n",
       "  'reranked_better_count': 6,\n",
       "  'unknown_count': 1},\n",
       " {'domain': 'computer',\n",
       "  'algorithm': 'cosine_reranked_ftpp',\n",
       "  'total_rows': 62,\n",
       "  'diff_rows': 22,\n",
       "  'rag_better_count': 13,\n",
       "  'reranked_better_count': 9,\n",
       "  'unknown_count': 0},\n",
       " {'domain': 'computer',\n",
       "  'algorithm': 'cosine_reranked_gt',\n",
       "  'total_rows': 62,\n",
       "  'diff_rows': 22,\n",
       "  'rag_better_count': 17,\n",
       "  'reranked_better_count': 5,\n",
       "  'unknown_count': 0},\n",
       " {'domain': 'nature',\n",
       "  'algorithm': 'cosine_reranked_ft',\n",
       "  'total_rows': 114,\n",
       "  'diff_rows': 38,\n",
       "  'rag_better_count': 21,\n",
       "  'reranked_better_count': 17,\n",
       "  'unknown_count': 0},\n",
       " {'domain': 'nature',\n",
       "  'algorithm': 'cosine_reranked_ftpp',\n",
       "  'total_rows': 114,\n",
       "  'diff_rows': 38,\n",
       "  'rag_better_count': 17,\n",
       "  'reranked_better_count': 21,\n",
       "  'unknown_count': 0},\n",
       " {'domain': 'nature',\n",
       "  'algorithm': 'cosine_reranked_gt',\n",
       "  'total_rows': 114,\n",
       "  'diff_rows': 38,\n",
       "  'rag_better_count': 25,\n",
       "  'reranked_better_count': 12,\n",
       "  'unknown_count': 1}]"
      ]
     },
     "execution_count": 40,
     "metadata": {},
     "output_type": "execute_result"
    }
   ],
   "source": [
    "metrics_list = []\n",
    "\n",
    "for domain in ['movie', 'computer', 'nature']:\n",
    "\n",
    "    df = pd.read_csv(os.path.join('artifacts', domain, 'eval_dataset.csv'))\n",
    "\n",
    "    # фильтрум те, в которых были разные rag, то есть реранжирование вообще имело смысл\n",
    "    df = df[df.uniq_count > 1]\n",
    "    total_rows = df.shape[0]\n",
    "\n",
    "    # Фильтруем, где вообщее есть различия\n",
    "    df = df[(df.rag_0 != df.cosine_reranked_ft) | (df.rag_0 != df.cosine_reranked_ftpp) | (df.rag_0 != df.cosine_reranked_gt)]\n",
    "    diff_rows = df.shape[0]\n",
    "\n",
    "    columns = ['cosine_reranked_ft', 'cosine_reranked_ftpp', 'cosine_reranked_gt']\n",
    "    for column in columns:\n",
    "        print(f'{domain} {column}')\n",
    "\n",
    "        rag_better_count = 0\n",
    "        reranked_better_count = 0\n",
    "        unknown_count = 0\n",
    "\n",
    "        for index in tqdm(df.index):\n",
    "            text = df.loc[index, 'sent']\n",
    "            question = df.loc[index, 'question']\n",
    "            answer1 = df.loc[index, 'rag_0']\n",
    "            answer2 = df.loc[index, column]\n",
    "            res = eval_chain.invoke({\"text\": text, \"question\": question, \"answer1\": answer1, \"answer2\": answer2})\n",
    "            if res.strip(' .)') == '1':\n",
    "                rag_better_count += 1\n",
    "            elif res.strip(' .)') == '2':\n",
    "                reranked_better_count += 1\n",
    "            else:\n",
    "                print(f'Error parse llm output: {res}')\n",
    "                unknown_count += 1\n",
    "\n",
    "        metrics_list.append({\n",
    "            'domain': domain,\n",
    "            'algorithm': column,\n",
    "            'total_rows': total_rows,\n",
    "            'diff_rows': diff_rows,\n",
    "            'rag_better_count': rag_better_count,\n",
    "            'reranked_better_count': reranked_better_count,\n",
    "            'unknown_count': unknown_count\n",
    "        })\n",
    "\n",
    "metrics_list"
   ]
  },
  {
   "cell_type": "code",
   "execution_count": 42,
   "metadata": {},
   "outputs": [
    {
     "data": {
      "text/html": [
       "<div>\n",
       "<style scoped>\n",
       "    .dataframe tbody tr th:only-of-type {\n",
       "        vertical-align: middle;\n",
       "    }\n",
       "\n",
       "    .dataframe tbody tr th {\n",
       "        vertical-align: top;\n",
       "    }\n",
       "\n",
       "    .dataframe thead th {\n",
       "        text-align: right;\n",
       "    }\n",
       "</style>\n",
       "<table border=\"1\" class=\"dataframe\">\n",
       "  <thead>\n",
       "    <tr style=\"text-align: right;\">\n",
       "      <th></th>\n",
       "      <th>domain</th>\n",
       "      <th>algorithm</th>\n",
       "      <th>total_rows</th>\n",
       "      <th>diff_rows</th>\n",
       "      <th>rag_better_count</th>\n",
       "      <th>reranked_better_count</th>\n",
       "      <th>unknown_count</th>\n",
       "    </tr>\n",
       "  </thead>\n",
       "  <tbody>\n",
       "    <tr>\n",
       "      <th>0</th>\n",
       "      <td>movie</td>\n",
       "      <td>cosine_reranked_ft</td>\n",
       "      <td>214</td>\n",
       "      <td>41</td>\n",
       "      <td>27</td>\n",
       "      <td>14</td>\n",
       "      <td>0</td>\n",
       "    </tr>\n",
       "    <tr>\n",
       "      <th>1</th>\n",
       "      <td>movie</td>\n",
       "      <td>cosine_reranked_ftpp</td>\n",
       "      <td>214</td>\n",
       "      <td>41</td>\n",
       "      <td>24</td>\n",
       "      <td>17</td>\n",
       "      <td>0</td>\n",
       "    </tr>\n",
       "    <tr>\n",
       "      <th>2</th>\n",
       "      <td>movie</td>\n",
       "      <td>cosine_reranked_gt</td>\n",
       "      <td>214</td>\n",
       "      <td>41</td>\n",
       "      <td>26</td>\n",
       "      <td>15</td>\n",
       "      <td>0</td>\n",
       "    </tr>\n",
       "    <tr>\n",
       "      <th>3</th>\n",
       "      <td>computer</td>\n",
       "      <td>cosine_reranked_ft</td>\n",
       "      <td>62</td>\n",
       "      <td>22</td>\n",
       "      <td>15</td>\n",
       "      <td>6</td>\n",
       "      <td>1</td>\n",
       "    </tr>\n",
       "    <tr>\n",
       "      <th>4</th>\n",
       "      <td>computer</td>\n",
       "      <td>cosine_reranked_ftpp</td>\n",
       "      <td>62</td>\n",
       "      <td>22</td>\n",
       "      <td>13</td>\n",
       "      <td>9</td>\n",
       "      <td>0</td>\n",
       "    </tr>\n",
       "    <tr>\n",
       "      <th>5</th>\n",
       "      <td>computer</td>\n",
       "      <td>cosine_reranked_gt</td>\n",
       "      <td>62</td>\n",
       "      <td>22</td>\n",
       "      <td>17</td>\n",
       "      <td>5</td>\n",
       "      <td>0</td>\n",
       "    </tr>\n",
       "    <tr>\n",
       "      <th>6</th>\n",
       "      <td>nature</td>\n",
       "      <td>cosine_reranked_ft</td>\n",
       "      <td>114</td>\n",
       "      <td>38</td>\n",
       "      <td>21</td>\n",
       "      <td>17</td>\n",
       "      <td>0</td>\n",
       "    </tr>\n",
       "    <tr>\n",
       "      <th>7</th>\n",
       "      <td>nature</td>\n",
       "      <td>cosine_reranked_ftpp</td>\n",
       "      <td>114</td>\n",
       "      <td>38</td>\n",
       "      <td>17</td>\n",
       "      <td>21</td>\n",
       "      <td>0</td>\n",
       "    </tr>\n",
       "    <tr>\n",
       "      <th>8</th>\n",
       "      <td>nature</td>\n",
       "      <td>cosine_reranked_gt</td>\n",
       "      <td>114</td>\n",
       "      <td>38</td>\n",
       "      <td>25</td>\n",
       "      <td>12</td>\n",
       "      <td>1</td>\n",
       "    </tr>\n",
       "  </tbody>\n",
       "</table>\n",
       "</div>"
      ],
      "text/plain": [
       "     domain             algorithm  total_rows  diff_rows  rag_better_count  \\\n",
       "0     movie    cosine_reranked_ft         214         41                27   \n",
       "1     movie  cosine_reranked_ftpp         214         41                24   \n",
       "2     movie    cosine_reranked_gt         214         41                26   \n",
       "3  computer    cosine_reranked_ft          62         22                15   \n",
       "4  computer  cosine_reranked_ftpp          62         22                13   \n",
       "5  computer    cosine_reranked_gt          62         22                17   \n",
       "6    nature    cosine_reranked_ft         114         38                21   \n",
       "7    nature  cosine_reranked_ftpp         114         38                17   \n",
       "8    nature    cosine_reranked_gt         114         38                25   \n",
       "\n",
       "   reranked_better_count  unknown_count  \n",
       "0                     14              0  \n",
       "1                     17              0  \n",
       "2                     15              0  \n",
       "3                      6              1  \n",
       "4                      9              0  \n",
       "5                      5              0  \n",
       "6                     17              0  \n",
       "7                     21              0  \n",
       "8                     12              1  "
      ]
     },
     "execution_count": 42,
     "metadata": {},
     "output_type": "execute_result"
    }
   ],
   "source": [
    "metrics_df = pd.DataFrame(metrics_list)\n",
    "metrics_df.to_csv(os.path.join('artifacts', 'rag_metrics.csv'), index=False)\n",
    "metrics_df"
   ]
  },
  {
   "cell_type": "markdown",
   "metadata": {},
   "source": [
    "**Вывод**:\n",
    "- Количество ответов, где RAG был лучше, больше чем RAG+RR\n",
    "- Есть только один случай nature+cosine_reranked_ftpp, где RAG+RR немного лушче RAG\n",
    "- можно отметить, что ftpp (построцессинговые файнтюненые) триплеты на всех доменах показали лучший результат, и даже лушче gt\n",
    "- возможно llm (второй подход к ранжирвованию) была права, оставляя ранжирование исходного RAG\t"
   ]
  },
  {
   "cell_type": "markdown",
   "metadata": {},
   "source": []
  }
 ],
 "metadata": {
  "kernelspec": {
   "display_name": "base",
   "language": "python",
   "name": "python3"
  },
  "language_info": {
   "codemirror_mode": {
    "name": "ipython",
    "version": 3
   },
   "file_extension": ".py",
   "mimetype": "text/x-python",
   "name": "python",
   "nbconvert_exporter": "python",
   "pygments_lexer": "ipython3",
   "version": "3.11.8"
  }
 },
 "nbformat": 4,
 "nbformat_minor": 2
}
