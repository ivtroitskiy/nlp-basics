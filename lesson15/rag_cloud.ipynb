{
 "cells": [
  {
   "cell_type": "markdown",
   "id": "c034d957-cc6d-4914-98ff-7468d7306567",
   "metadata": {
    "tags": []
   },
   "source": [
    "%pip install transformers==4.38.2\n",
    "%pip install peft==0.10.0\n",
    "%pip install sentencepiece==0.2.0\n",
    "%pip install accelerate==0.28.0\n",
    "%pip install -i https://pypi.org/simple/ bitsandbytes\n",
    "\n",
    "%pip install --force-reinstall chromadb==0.4.23 \n",
    "%pip install --force-reinstall llama_index==0.10.12\n",
    "%pip install --force-reinstall sentence_transformers==2.2.2"
   ]
  },
  {
   "cell_type": "code",
   "execution_count": 1,
   "id": "bbb6edf9-d471-4934-89b9-de2a351517dd",
   "metadata": {
    "tags": []
   },
   "outputs": [
    {
     "name": "stderr",
     "output_type": "stream",
     "text": [
      "2024-07-04 23:11:17.703618: I tensorflow/core/util/port.cc:113] oneDNN custom operations are on. You may see slightly different numerical results due to floating-point round-off errors from different computation orders. To turn them off, set the environment variable `TF_ENABLE_ONEDNN_OPTS=0`.\n",
      "2024-07-04 23:11:17.732288: E external/local_xla/xla/stream_executor/cuda/cuda_dnn.cc:9261] Unable to register cuDNN factory: Attempting to register factory for plugin cuDNN when one has already been registered\n",
      "2024-07-04 23:11:17.732315: E external/local_xla/xla/stream_executor/cuda/cuda_fft.cc:607] Unable to register cuFFT factory: Attempting to register factory for plugin cuFFT when one has already been registered\n",
      "2024-07-04 23:11:17.733246: E external/local_xla/xla/stream_executor/cuda/cuda_blas.cc:1515] Unable to register cuBLAS factory: Attempting to register factory for plugin cuBLAS when one has already been registered\n",
      "2024-07-04 23:11:17.738230: I tensorflow/core/platform/cpu_feature_guard.cc:182] This TensorFlow binary is optimized to use available CPU instructions in performance-critical operations.\n",
      "To enable the following instructions: AVX2 AVX512F AVX512_VNNI FMA, in other operations, rebuild TensorFlow with the appropriate compiler flags.\n",
      "2024-07-04 23:11:18.331699: W tensorflow/compiler/tf2tensorrt/utils/py_utils.cc:38] TF-TRT Warning: Could not find TensorRT\n"
     ]
    }
   ],
   "source": [
    "from typing import List\n",
    "import json\n",
    "import chromadb\n",
    "from chromadb.utils.embedding_functions import SentenceTransformerEmbeddingFunction\n",
    "from transformers import AutoModelForCausalLM, AutoTokenizer, set_seed, GenerationConfig\n",
    "from sklearn.metrics.pairwise import cosine_similarity\n",
    "import numpy as np\n",
    "import pandas as pd\n",
    "import torch\n",
    "from tqdm.auto import tqdm\n",
    "set_seed(42)"
   ]
  },
  {
   "cell_type": "code",
   "execution_count": 2,
   "id": "9eea6f66",
   "metadata": {},
   "outputs": [],
   "source": [
    "MODEL_NAME = 'IlyaGusev/saiga_mistral_7b'\n",
    "\n",
    "#MODEL_NAME =\"openchat/openchat-3.5-0106\"\n",
    "\n",
    "EMBED_MODEL = 'intfloat/e5-large-v2'\n",
    "#EMBED_MODEL = 'BAAI/bge-small-en-v1.5'"
   ]
  },
  {
   "cell_type": "code",
   "execution_count": 3,
   "id": "d839722e",
   "metadata": {},
   "outputs": [
    {
     "name": "stdout",
     "output_type": "stream",
     "text": [
      "Total video memory: 7951.19 MB\n",
      "Available video memory: 0.00 MB\n"
     ]
    }
   ],
   "source": [
    "import torch\n",
    "\n",
    "# Get the properties of the CUDA device\n",
    "device = torch.device(\"cuda\" if torch.cuda.is_available() else \"cpu\")\n",
    "properties = torch.cuda.get_device_properties(device)\n",
    "\n",
    "# Print the total memory and memory available on the CUDA device\n",
    "total_memory = properties.total_memory / 1024**2  # Convert to megabytes\n",
    "memory_available = torch.cuda.memory_reserved(device) / 1024**2  # Convert to megabytes\n",
    "\n",
    "print(f\"Total video memory: {total_memory:.2f} MB\")\n",
    "print(f\"Available video memory: {memory_available:.2f} MB\")"
   ]
  },
  {
   "cell_type": "markdown",
   "id": "7fdd6ff7-89fa-4298-9c00-e59cef19a55e",
   "metadata": {},
   "source": [
    "Иницилизируем модель для получения эмббедингов"
   ]
  },
  {
   "cell_type": "code",
   "execution_count": 4,
   "id": "12b080ef-9bd7-4692-9862-22e3473d9a92",
   "metadata": {
    "tags": []
   },
   "outputs": [],
   "source": [
    "embed_model = SentenceTransformerEmbeddingFunction(model_name=EMBED_MODEL, \n",
    "                                                device='cuda'\n",
    "                                                )"
   ]
  },
  {
   "cell_type": "markdown",
   "id": "7ad4ee6f-c9a9-4791-b1ae-e307fbf7734a",
   "metadata": {},
   "source": [
    "Создаем коллекцию в векторном хранилище"
   ]
  },
  {
   "cell_type": "code",
   "execution_count": 5,
   "id": "4c032439-3867-42b1-876c-a076a36e5c9e",
   "metadata": {
    "tags": []
   },
   "outputs": [
    {
     "data": {
      "text/plain": [
       "[Collection(name=RAG)]"
      ]
     },
     "execution_count": 5,
     "metadata": {},
     "output_type": "execute_result"
    }
   ],
   "source": [
    "client = chromadb.Client()\n",
    "collection = client.get_or_create_collection(\"RAG\", embedding_function=embed_model,\n",
    "    metadata={\"hnsw:space\": \"cosine\"} \n",
    "    )\n",
    "client.list_collections()"
   ]
  },
  {
   "cell_type": "markdown",
   "id": "6a516edf-e742-457f-9416-37d21060d0c2",
   "metadata": {},
   "source": [
    "Загружаем данные"
   ]
  },
  {
   "cell_type": "code",
   "execution_count": 6,
   "id": "07cb3cc3-a598-44f3-9df8-f058899634c2",
   "metadata": {
    "tags": []
   },
   "outputs": [],
   "source": [
    "#file_path = \"triples_ft_pp.jsonl\"\n",
    "file_path = \"data/movie_ground_truth.jsonl\" # больше данных - больше вариативность\n",
    "\n",
    "with open(file_path, \"r\") as f:\n",
    "    data = f.readlines()"
   ]
  },
  {
   "cell_type": "code",
   "execution_count": 7,
   "id": "402990c0-f2d8-45fa-a363-2038b9d82531",
   "metadata": {
    "tags": []
   },
   "outputs": [],
   "source": [
    "documents = []\n",
    "for i_text in data:\n",
    "    i_text = json.loads(i_text)\n",
    "    documents.append(i_text['sent'])"
   ]
  },
  {
   "cell_type": "code",
   "execution_count": 8,
   "id": "f1c35c9c-7a29-4d59-8611-c6c878cd5ae5",
   "metadata": {
    "tags": []
   },
   "outputs": [],
   "source": [
    "metadata = [{'subject': 'movie'} for i in range(len(documents))]"
   ]
  },
  {
   "cell_type": "markdown",
   "id": "3d6965e6",
   "metadata": {},
   "source": [
    "### Грузим каталог"
   ]
  },
  {
   "cell_type": "code",
   "execution_count": 9,
   "id": "1fe1c8ca",
   "metadata": {},
   "outputs": [
    {
     "data": {
      "text/html": [
       "<div>\n",
       "<style scoped>\n",
       "    .dataframe tbody tr th:only-of-type {\n",
       "        vertical-align: middle;\n",
       "    }\n",
       "\n",
       "    .dataframe tbody tr th {\n",
       "        vertical-align: top;\n",
       "    }\n",
       "\n",
       "    .dataframe thead th {\n",
       "        text-align: right;\n",
       "    }\n",
       "</style>\n",
       "<table border=\"1\" class=\"dataframe\">\n",
       "  <thead>\n",
       "    <tr style=\"text-align: right;\">\n",
       "      <th></th>\n",
       "      <th>title</th>\n",
       "      <th>url</th>\n",
       "      <th>price</th>\n",
       "      <th>text</th>\n",
       "    </tr>\n",
       "  </thead>\n",
       "  <tbody>\n",
       "    <tr>\n",
       "      <th>25</th>\n",
       "      <td>ЭМ компостер для пищевых отходов</td>\n",
       "      <td>https://em-russia.ru/shop/all/%D0%AD%D0%9C-%D0...</td>\n",
       "      <td>2340</td>\n",
       "      <td>ЭМ-контейнер - биоутилизатор органических отхо...</td>\n",
       "    </tr>\n",
       "    <tr>\n",
       "      <th>26</th>\n",
       "      <td>Тоник для кожи лица</td>\n",
       "      <td>https://em-russia.ru/shop/all/tonik-dlya-kozhi...</td>\n",
       "      <td>3025</td>\n",
       "      <td>Разнообразные натуральные свойства и процесс ф...</td>\n",
       "    </tr>\n",
       "    <tr>\n",
       "      <th>27</th>\n",
       "      <td>Зубная паста</td>\n",
       "      <td>https://em-russia.ru/shop/all/zubnaya-pasta</td>\n",
       "      <td>26250</td>\n",
       "      <td>Лечебно-профилактическая зубная паста с мягким...</td>\n",
       "    </tr>\n",
       "    <tr>\n",
       "      <th>28</th>\n",
       "      <td>Защитная ЭМ маска</td>\n",
       "      <td>https://em-russia.ru/shop/all/zashchitnaya-em-...</td>\n",
       "      <td>195</td>\n",
       "      <td>Индивидуальная многоразовая защитная маска обр...</td>\n",
       "    </tr>\n",
       "    <tr>\n",
       "      <th>29</th>\n",
       "      <td>Набор для ЭМ компоста</td>\n",
       "      <td>https://em-russia.ru/shop/all/nabor-dlya-em-ko...</td>\n",
       "      <td>1600</td>\n",
       "      <td>Набор для приготовления ЭМ-компоста\\nСостав\\nС...</td>\n",
       "    </tr>\n",
       "    <tr>\n",
       "      <th>30</th>\n",
       "      <td>ЭМ мыло жидкое органическое ПРЕМИУМ</td>\n",
       "      <td>https://em-russia.ru/shop/all/em-mylo-zhidkoe-...</td>\n",
       "      <td>200</td>\n",
       "      <td>Мыло жидкое для рук и тела \"ЭМ-МЫЛО Премиум\" и...</td>\n",
       "    </tr>\n",
       "    <tr>\n",
       "      <th>31</th>\n",
       "      <td>Средство для уборки ЭМ Спрей</td>\n",
       "      <td>https://em-russia.ru/shop/all/sredstvo-dlya-ub...</td>\n",
       "      <td>5380</td>\n",
       "      <td>Устраняет неприятные запахи (в том числе запах...</td>\n",
       "    </tr>\n",
       "    <tr>\n",
       "      <th>32</th>\n",
       "      <td>Средство дезинфицирующее ЭМ Вита Про</td>\n",
       "      <td>https://em-russia.ru/shop/all/sredstvo-dezinfi...</td>\n",
       "      <td>5380</td>\n",
       "      <td>Препарат «ЭМ-Вита.Про» предназначен для устран...</td>\n",
       "    </tr>\n",
       "    <tr>\n",
       "      <th>33</th>\n",
       "      <td>Биодезинфектант БиоЭМ АКТИВ</td>\n",
       "      <td>https://em-russia.ru/shop/all/biodezinfektant-...</td>\n",
       "      <td>1050</td>\n",
       "      <td>Препарат полностью природного происхождения, в...</td>\n",
       "    </tr>\n",
       "    <tr>\n",
       "      <th>34</th>\n",
       "      <td>Средство для уборки ЭМ Спрей</td>\n",
       "      <td>https://em-russia.ru/shop/all/sredstvo-dlya-ub...</td>\n",
       "      <td>425</td>\n",
       "      <td>Устраняет неприятные запахи (в том числе запах...</td>\n",
       "    </tr>\n",
       "    <tr>\n",
       "      <th>35</th>\n",
       "      <td>Средство для уборки ЭМ Спрей</td>\n",
       "      <td>https://em-russia.ru/shop/all/sredstvo-dlya-ub...</td>\n",
       "      <td>285</td>\n",
       "      <td>Устраняет неприятные запахи (в том числе запах...</td>\n",
       "    </tr>\n",
       "    <tr>\n",
       "      <th>36</th>\n",
       "      <td>Кормовая добавка ЭМ Вита</td>\n",
       "      <td>https://em-russia.ru/shop/all/kormovaya-dobavk...</td>\n",
       "      <td>285</td>\n",
       "      <td>Повышает иммунитет, улучшает рост и развитие в...</td>\n",
       "    </tr>\n",
       "    <tr>\n",
       "      <th>37</th>\n",
       "      <td>Кормовая добавка ЭМ Вита</td>\n",
       "      <td>https://em-russia.ru/shop/all/kormovaya-dobavk...</td>\n",
       "      <td>440</td>\n",
       "      <td>Повышает иммунитет, улучшает рост и развитие в...</td>\n",
       "    </tr>\n",
       "    <tr>\n",
       "      <th>38</th>\n",
       "      <td>Кормовая добавка ЭМ Вита</td>\n",
       "      <td>https://em-russia.ru/shop/all/kormovaya-dobavk...</td>\n",
       "      <td>5380</td>\n",
       "      <td>Повышает иммунитет, улучшает рост и развитие в...</td>\n",
       "    </tr>\n",
       "    <tr>\n",
       "      <th>39</th>\n",
       "      <td>ЭМ БИО удобрение 1 Восток ЭМ 1</td>\n",
       "      <td>https://em-russia.ru/shop/all/em-bio-udobrenie...</td>\n",
       "      <td>4930</td>\n",
       "      <td>Эта животворящая микрофлора участвует своей би...</td>\n",
       "    </tr>\n",
       "    <tr>\n",
       "      <th>40</th>\n",
       "      <td>ЭМ БИО удобрение 1 Восток ЭМ 1</td>\n",
       "      <td>https://em-russia.ru/shop/all/em-bio-udobrenie...</td>\n",
       "      <td>435</td>\n",
       "      <td>Эта животворящая микрофлора участвует своей би...</td>\n",
       "    </tr>\n",
       "    <tr>\n",
       "      <th>41</th>\n",
       "      <td>ЭМ БИО удобрение 1 Восток ЭМ 1</td>\n",
       "      <td>https://em-russia.ru/shop/all/em-bio-udobrenie...</td>\n",
       "      <td>250</td>\n",
       "      <td>Эта животворящая микрофлора участвует своей би...</td>\n",
       "    </tr>\n",
       "    <tr>\n",
       "      <th>42</th>\n",
       "      <td>Для очистки воды 1</td>\n",
       "      <td>https://em-russia.ru/shop/all/dlya-ochistki-vo...</td>\n",
       "      <td>575</td>\n",
       "      <td>- консервации и дезодорации отходов в баках ту...</td>\n",
       "    </tr>\n",
       "    <tr>\n",
       "      <th>43</th>\n",
       "      <td>ЭМ БИО удобрение 1 Восток ЭМ 1</td>\n",
       "      <td>https://em-russia.ru/shop/all/em-bio-udobrenie...</td>\n",
       "      <td>575</td>\n",
       "      <td>Эта животворящая микрофлора участвует своей би...</td>\n",
       "    </tr>\n",
       "    <tr>\n",
       "      <th>44</th>\n",
       "      <td>Для очистки воды 1</td>\n",
       "      <td>https://em-russia.ru/shop/all/dlya-ochistki-vo...</td>\n",
       "      <td>4930</td>\n",
       "      <td>- консервации и дезодорации отходов в баках ту...</td>\n",
       "    </tr>\n",
       "  </tbody>\n",
       "</table>\n",
       "</div>"
      ],
      "text/plain": [
       "                                    title  \\\n",
       "25       ЭМ компостер для пищевых отходов   \n",
       "26                    Тоник для кожи лица   \n",
       "27                           Зубная паста   \n",
       "28                      Защитная ЭМ маска   \n",
       "29                  Набор для ЭМ компоста   \n",
       "30    ЭМ мыло жидкое органическое ПРЕМИУМ   \n",
       "31          Средство для уборки ЭМ Спрей    \n",
       "32  Средство дезинфицирующее ЭМ Вита Про    \n",
       "33            Биодезинфектант БиоЭМ АКТИВ   \n",
       "34          Средство для уборки ЭМ Спрей    \n",
       "35          Средство для уборки ЭМ Спрей    \n",
       "36              Кормовая добавка ЭМ Вита    \n",
       "37              Кормовая добавка ЭМ Вита    \n",
       "38              Кормовая добавка ЭМ Вита    \n",
       "39        ЭМ БИО удобрение 1 Восток ЭМ 1    \n",
       "40        ЭМ БИО удобрение 1 Восток ЭМ 1    \n",
       "41        ЭМ БИО удобрение 1 Восток ЭМ 1    \n",
       "42                    Для очистки воды 1    \n",
       "43        ЭМ БИО удобрение 1 Восток ЭМ 1    \n",
       "44                    Для очистки воды 1    \n",
       "\n",
       "                                                  url  price  \\\n",
       "25  https://em-russia.ru/shop/all/%D0%AD%D0%9C-%D0...   2340   \n",
       "26  https://em-russia.ru/shop/all/tonik-dlya-kozhi...   3025   \n",
       "27        https://em-russia.ru/shop/all/zubnaya-pasta  26250   \n",
       "28  https://em-russia.ru/shop/all/zashchitnaya-em-...    195   \n",
       "29  https://em-russia.ru/shop/all/nabor-dlya-em-ko...   1600   \n",
       "30  https://em-russia.ru/shop/all/em-mylo-zhidkoe-...    200   \n",
       "31  https://em-russia.ru/shop/all/sredstvo-dlya-ub...   5380   \n",
       "32  https://em-russia.ru/shop/all/sredstvo-dezinfi...   5380   \n",
       "33  https://em-russia.ru/shop/all/biodezinfektant-...   1050   \n",
       "34  https://em-russia.ru/shop/all/sredstvo-dlya-ub...    425   \n",
       "35  https://em-russia.ru/shop/all/sredstvo-dlya-ub...    285   \n",
       "36  https://em-russia.ru/shop/all/kormovaya-dobavk...    285   \n",
       "37  https://em-russia.ru/shop/all/kormovaya-dobavk...    440   \n",
       "38  https://em-russia.ru/shop/all/kormovaya-dobavk...   5380   \n",
       "39  https://em-russia.ru/shop/all/em-bio-udobrenie...   4930   \n",
       "40  https://em-russia.ru/shop/all/em-bio-udobrenie...    435   \n",
       "41  https://em-russia.ru/shop/all/em-bio-udobrenie...    250   \n",
       "42  https://em-russia.ru/shop/all/dlya-ochistki-vo...    575   \n",
       "43  https://em-russia.ru/shop/all/em-bio-udobrenie...    575   \n",
       "44  https://em-russia.ru/shop/all/dlya-ochistki-vo...   4930   \n",
       "\n",
       "                                                 text  \n",
       "25  ЭМ-контейнер - биоутилизатор органических отхо...  \n",
       "26  Разнообразные натуральные свойства и процесс ф...  \n",
       "27  Лечебно-профилактическая зубная паста с мягким...  \n",
       "28  Индивидуальная многоразовая защитная маска обр...  \n",
       "29  Набор для приготовления ЭМ-компоста\\nСостав\\nС...  \n",
       "30  Мыло жидкое для рук и тела \"ЭМ-МЫЛО Премиум\" и...  \n",
       "31  Устраняет неприятные запахи (в том числе запах...  \n",
       "32  Препарат «ЭМ-Вита.Про» предназначен для устран...  \n",
       "33  Препарат полностью природного происхождения, в...  \n",
       "34  Устраняет неприятные запахи (в том числе запах...  \n",
       "35  Устраняет неприятные запахи (в том числе запах...  \n",
       "36  Повышает иммунитет, улучшает рост и развитие в...  \n",
       "37  Повышает иммунитет, улучшает рост и развитие в...  \n",
       "38  Повышает иммунитет, улучшает рост и развитие в...  \n",
       "39  Эта животворящая микрофлора участвует своей би...  \n",
       "40  Эта животворящая микрофлора участвует своей би...  \n",
       "41  Эта животворящая микрофлора участвует своей би...  \n",
       "42  - консервации и дезодорации отходов в баках ту...  \n",
       "43  Эта животворящая микрофлора участвует своей би...  \n",
       "44  - консервации и дезодорации отходов в баках ту...  "
      ]
     },
     "execution_count": 9,
     "metadata": {},
     "output_type": "execute_result"
    }
   ],
   "source": [
    "df = pd.read_csv('../lesson12/data/data.csv_')\n",
    "df.tail(20)"
   ]
  },
  {
   "cell_type": "code",
   "execution_count": 10,
   "id": "c7eb74f7",
   "metadata": {},
   "outputs": [],
   "source": [
    "documents = []\n",
    "metadata = []\n",
    "for index, row in df.iterrows():\n",
    "    title = row['title']\n",
    "    text = row['text']\n",
    "    documents.append(f'{title}\\n{text}')\n",
    "    metadata.append({'url' : row['url']})"
   ]
  },
  {
   "cell_type": "markdown",
   "id": "cbb1037d",
   "metadata": {},
   "source": [
    "### Грузим статьи"
   ]
  },
  {
   "cell_type": "code",
   "execution_count": 11,
   "id": "537c5830",
   "metadata": {},
   "outputs": [],
   "source": [
    "import os\n",
    "for filename in os.listdir('../lesson12/data/page_texts/'):\n",
    "    with open('../lesson12/data/page_texts/' + filename, 'r') as f:\n",
    "        sentenses = f.read()\n",
    "        \n",
    "        #for sentense in sentenses:\n",
    "        documents.append(sentenses)\n",
    "        metadata.append({'url' : f'https://em-russia.ru/base/{filename.split(\".\")[0]}/'})\n",
    "        \n",
    "    "
   ]
  },
  {
   "cell_type": "markdown",
   "id": "99829661-94b0-435d-bade-e842fbb26447",
   "metadata": {},
   "source": [
    "Подготоавливаем данные для загрузки в векторную бд"
   ]
  },
  {
   "cell_type": "code",
   "execution_count": 12,
   "id": "926a5021",
   "metadata": {},
   "outputs": [],
   "source": [
    "#metadata = [{'type': 'product'} for i in range(len(documents))]"
   ]
  },
  {
   "cell_type": "code",
   "execution_count": 13,
   "id": "7156ef60-7a9d-42b0-be9f-7b2e8e058dd5",
   "metadata": {
    "tags": []
   },
   "outputs": [],
   "source": [
    "ids = ['id'+str(collection.count()+i+1) for i in range(len(documents))]"
   ]
  },
  {
   "cell_type": "code",
   "execution_count": 14,
   "id": "4e1479c5-235f-4b12-9b88-5ba3506a40a9",
   "metadata": {
    "tags": []
   },
   "outputs": [],
   "source": [
    "collection.add(\n",
    "    documents=documents,\n",
    "    metadatas=metadata,\n",
    "    ids=ids,\n",
    ")\n"
   ]
  },
  {
   "cell_type": "code",
   "execution_count": 15,
   "id": "9bdeaac7-5f2d-4e9e-af5b-c99c2c452b20",
   "metadata": {
    "tags": []
   },
   "outputs": [
    {
     "name": "stderr",
     "output_type": "stream",
     "text": [
      "Special tokens have been added in the vocabulary, make sure the associated word embeddings are fine-tuned or trained.\n",
      "Special tokens have been added in the vocabulary, make sure the associated word embeddings are fine-tuned or trained.\n"
     ]
    },
    {
     "data": {
      "application/vnd.jupyter.widget-view+json": {
       "model_id": "1174654dbde741fe81a644b23e8cfa92",
       "version_major": 2,
       "version_minor": 0
      },
      "text/plain": [
       "Loading checkpoint shards:   0%|          | 0/2 [00:00<?, ?it/s]"
      ]
     },
     "metadata": {},
     "output_type": "display_data"
    }
   ],
   "source": [
    "torch_device = \"cuda\" if torch.cuda.is_available() else \"cpu\"\n",
    "torch_device = \"cpu\"\n",
    "\n",
    "tokenizer = AutoTokenizer.from_pretrained(MODEL_NAME)\n",
    "\n",
    "model = AutoModelForCausalLM.from_pretrained(MODEL_NAME, \n",
    "                                             pad_token_id=tokenizer.eos_token_id).to(torch_device)"
   ]
  },
  {
   "cell_type": "code",
   "execution_count": 16,
   "id": "db086151-4b5e-47cf-be4d-07b1a2cd4849",
   "metadata": {
    "execution": {
     "iopub.execute_input": "2024-04-05T21:41:10.223118Z",
     "iopub.status.busy": "2024-04-05T21:41:10.222412Z",
     "iopub.status.idle": "2024-04-05T21:41:10.234974Z",
     "shell.execute_reply": "2024-04-05T21:41:10.233776Z",
     "shell.execute_reply.started": "2024-04-05T21:41:10.223083Z"
    },
    "tags": []
   },
   "outputs": [],
   "source": [
    "# model.generation_config = GenerationConfig(\n",
    "#        do_sample=True,\n",
    "#        top_k=50,\n",
    "#        top_p=0.95,\n",
    "#        num_return_sequences=num_return_sequences, \n",
    "#        num_beams=num_beams,\n",
    "#        temperature=0.5\n",
    "#    )"
   ]
  },
  {
   "cell_type": "markdown",
   "id": "0a486484-f3ad-4ce2-b49b-cc0f81e59d21",
   "metadata": {},
   "source": [
    "Промпт для RAG"
   ]
  },
  {
   "cell_type": "code",
   "execution_count": 17,
   "id": "9b27f5cc-656c-4fe5-80ba-1b44c587a9b8",
   "metadata": {
    "tags": []
   },
   "outputs": [],
   "source": [
    "prompt = \"\"\"Context information is below.\n",
    "---------------------\n",
    "{context}\n",
    "---------------------\n",
    "Given the context information and not prior knowledge, answer the query.\n",
    "Query: {query}\n",
    "Answer:\"\"\""
   ]
  },
  {
   "cell_type": "markdown",
   "id": "f9bcbb9b-1b94-4304-8d87-906fc7bfa5bb",
   "metadata": {},
   "source": [
    "Функция для поиска контекста"
   ]
  },
  {
   "cell_type": "code",
   "execution_count": 27,
   "id": "f1ca6145-8f84-4f24-86d1-b63d93a0da57",
   "metadata": {
    "tags": []
   },
   "outputs": [],
   "source": [
    "def get_context(query):\n",
    "    context_raw = collection.query(query_texts=query, n_results=3)\n",
    "    context = \"\\n\".join(context_raw['documents'][0])\n",
    "    context = context + \" Подробнее по ссылке \" + context_raw['metadatas'][0][0]['url']\n",
    "    return context"
   ]
  },
  {
   "cell_type": "code",
   "execution_count": 19,
   "id": "88587dd3",
   "metadata": {},
   "outputs": [
    {
     "data": {
      "text/plain": [
       "{'ids': [['id123', 'id298', 'id89']],\n",
       " 'distances': [[0.18283700942993164,\n",
       "   0.18444430828094482,\n",
       "   0.18444430828094482]],\n",
       " 'metadatas': [[{'url': 'https://em-russia.ru/base/eko-uborka-s-em-nedelya-karantina-s-polzoy-i-profilaktikoy/'},\n",
       "   {'url': 'https://em-russia.ru/base/kompleksnoe-primenenie-em-v-restorane-peru/'},\n",
       "   {'url': 'https://em-russia.ru/base/kompleksnoe-primenenie-em-v-restorane-peru2/'}]],\n",
       " 'embeddings': None,\n",
       " 'documents': [['ЭКО-уборка с ЭМ: неделя карантина с пользой и профилактикой 30.03.2020Впереди целая Неделя дома.Чем займётесь?Ну наверняка же будете убираться. Это прям повод генеральную уборку провести.Можно сразу убить двух зайцев - убраться качественно и экологично без химии, и провести биодезинфекцию воздуха и пространства. В общем - делаем одно дело, а вопросом решаем сразу несколько.Препарат ЭМ-Спрей Вам в помощь!ИНСТРУКЦИЯ к ЭКО-уборке:1. Разбавляем #эмспрей в концентрации 1:500 и аэрозольно из мелкодисперсного распылителя распыляем на люстры, шторы, стены, ковры, мягкую мебель, гардеробная, обувь и т.д. от пыли и для БИО дезинфекции воздуха и пространства.2. Остался разбавленный раствор? Добавляем в ведро с водой для мытья пола, чтобы он был чистым и меньше притягивал к себе частицы пыли, а также можем добавить в сливы раковины и душевой кабины, чтобы сделать био-прочистку или профилактику от засоров и для устранения запахов.3. Делаем концентрацию 1:100 и моем кафель, сантехнику, панели на кухне, кастрюли и крышки от жира, замачиваем кухонные тряпочки и т.д. 4. А ещё добавляем при стирке прям с порошком, вместо кондиционера. Для особо застарелых загрязнений и ручной стирки подключаем безопасное и эффективное ЭМ-мыло хозяйственноеКАК ЭТО РАБОТАЕТ?Начнём с пыли, пыль - это органика, органика - это пища для микроорганизмов. Соответственно, они умеют ее утилизировать, полезные Эффективные микроорганизмы это делают с умом, выделяя в пространство продукты жизнедеятельности, которые ещё и гармонизируют пространство.Дальше, загрязнения - это тоже органика, пятна жира, грязи, пищи, крови, какого-либо средства - суть одна.С запахами та же история, у них органическая составляющая - запах дыма, табака, старых вещей, пота, жареной рыбы, пропавших продуктов. В общем - впереди неделя дома и можно вычистить весь дом и сделать это безопасно и с профилактикой от коронавируса.А ещё сегодня с 20-30 до 21-30 пройдёт самая массовая экологическая акция на Планете - Час Земли! Выключаем свет всего на один час!Присоединяйтесь!',\n",
       "   'Комплексное применение ЭМ в ресторане Перу ',\n",
       "   'Комплексное применение ЭМ в ресторане Перу ']],\n",
       " 'uris': None,\n",
       " 'data': None}"
      ]
     },
     "execution_count": 19,
     "metadata": {},
     "output_type": "execute_result"
    }
   ],
   "source": [
    "query = \"Чем лучше убирать помещения?\"\n",
    "context_raw = collection.query(query_texts=query, n_results=3)\n",
    "context_raw"
   ]
  },
  {
   "cell_type": "code",
   "execution_count": 28,
   "id": "5a4eb103",
   "metadata": {},
   "outputs": [
    {
     "data": {
      "text/plain": [
       "'ЭКО-уборка с ЭМ: неделя карантина с пользой и профилактикой 30.03.2020Впереди целая Неделя дома.Чем займётесь?Ну наверняка же будете убираться. Это прям повод генеральную уборку провести.Можно сразу убить двух зайцев - убраться качественно и экологично без химии, и провести биодезинфекцию воздуха и пространства. В общем - делаем одно дело, а вопросом решаем сразу несколько.Препарат ЭМ-Спрей Вам в помощь!ИНСТРУКЦИЯ к ЭКО-уборке:1. Разбавляем #эмспрей в концентрации 1:500 и аэрозольно из мелкодисперсного распылителя распыляем на люстры, шторы, стены, ковры, мягкую мебель, гардеробная, обувь и т.д. от пыли и для БИО дезинфекции воздуха и пространства.2. Остался разбавленный раствор? Добавляем в ведро с водой для мытья пола, чтобы он был чистым и меньше притягивал к себе частицы пыли, а также можем добавить в сливы раковины и душевой кабины, чтобы сделать био-прочистку или профилактику от засоров и для устранения запахов.3. Делаем концентрацию 1:100 и моем кафель, сантехнику, панели на кухне, кастрюли и крышки от жира, замачиваем кухонные тряпочки и т.д. 4. А ещё добавляем при стирке прям с порошком, вместо кондиционера. Для особо застарелых загрязнений и ручной стирки подключаем безопасное и эффективное ЭМ-мыло хозяйственноеКАК ЭТО РАБОТАЕТ?Начнём с пыли, пыль - это органика, органика - это пища для микроорганизмов. Соответственно, они умеют ее утилизировать, полезные Эффективные микроорганизмы это делают с умом, выделяя в пространство продукты жизнедеятельности, которые ещё и гармонизируют пространство.Дальше, загрязнения - это тоже органика, пятна жира, грязи, пищи, крови, какого-либо средства - суть одна.С запахами та же история, у них органическая составляющая - запах дыма, табака, старых вещей, пота, жареной рыбы, пропавших продуктов. В общем - впереди неделя дома и можно вычистить весь дом и сделать это безопасно и с профилактикой от коронавируса.А ещё сегодня с 20-30 до 21-30 пройдёт самая массовая экологическая акция на Планете - Час Земли! Выключаем свет всего на один час!Присоединяйтесь!\\nКомплексное применение ЭМ в ресторане Перу \\nКомплексное применение ЭМ в ресторане Перу  Подробнее по ссылке https://em-russia.ru/base/eko-uborka-s-em-nedelya-karantina-s-polzoy-i-profilaktikoy/'"
      ]
     },
     "execution_count": 28,
     "metadata": {},
     "output_type": "execute_result"
    }
   ],
   "source": [
    "get_context(query)"
   ]
  },
  {
   "cell_type": "markdown",
   "id": "d7998c6d-60b0-4b61-b186-e16dd9241a7b",
   "metadata": {},
   "source": [
    "Функция для генерации нескольких ответов модели"
   ]
  },
  {
   "cell_type": "markdown",
   "id": "5eb652fc-8234-4f37-b145-fb3309960155",
   "metadata": {},
   "source": [
    "Закомментированные параметры - эксперимент"
   ]
  },
  {
   "cell_type": "code",
   "execution_count": 29,
   "id": "aa217e68-1d51-4d90-9476-fd0f1cc7f7fe",
   "metadata": {
    "tags": []
   },
   "outputs": [],
   "source": [
    "def get_model_output(context, query):\n",
    "    model_inputs = tokenizer(prompt.format(context=context, query=query), return_tensors='pt').to(torch_device)\n",
    "\n",
    "    sample_outputs = model.generate(\n",
    "    **model_inputs,\n",
    "    max_new_tokens=50,\n",
    "    do_sample=False, # True,\n",
    "    #top_k=50,\n",
    "    #top_p=0.95,\n",
    "    num_return_sequences=3, #6, \n",
    "    num_beams=3, #6,\n",
    "    temperature=None\n",
    "    )\n",
    "\n",
    "    result = []\n",
    "    for i, output in enumerate(sample_outputs):\n",
    "        result.append(tokenizer.decode(output, skip_special_tokens=True).split(\"Answer:\")[1].strip().split(\"\\n\")[0].strip())\n",
    "    return result"
   ]
  },
  {
   "cell_type": "code",
   "execution_count": 30,
   "id": "e36c68aa-d237-4b1b-a2bb-37303cf3714a",
   "metadata": {
    "tags": []
   },
   "outputs": [],
   "source": [
    "def get_output_texts(query: str) -> List[str]:\n",
    "    context = get_context(query)\n",
    "    output_texts = get_model_output(context, query)\n",
    "    return output_texts"
   ]
  },
  {
   "cell_type": "markdown",
   "id": "c26b74b2-0578-41b5-a8ff-7b25a77acc29",
   "metadata": {},
   "source": [
    "Тест"
   ]
  },
  {
   "cell_type": "code",
   "execution_count": 31,
   "id": "2644d57f-e96b-47b3-b5f6-7e9c30b90091",
   "metadata": {
    "tags": []
   },
   "outputs": [
    {
     "name": "stderr",
     "output_type": "stream",
     "text": [
      "Setting `pad_token_id` to `eos_token_id`:32000 for open-end generation.\n"
     ]
    },
    {
     "data": {
      "text/plain": [
       "['Лучше всего убирать помещения с использованием эффективных микроорганизмов (ЭМ). ЭМ способны утилизировать пыль, загряз',\n",
       " 'Лучше всего убирать помещения с использованием эффективных микроорганизмов (ЭМ). ЭМ могут убирать пыль, грязь, пятна',\n",
       " 'Лучше всего убирать помещения с использованием эффективных микроорганизмов (ЭМ). ЭМ способны утилизировать органические загрязнения,']"
      ]
     },
     "execution_count": 31,
     "metadata": {},
     "output_type": "execute_result"
    }
   ],
   "source": [
    "get_output_texts(\"Чем лучше убирать помещения?\")"
   ]
  }
 ],
 "metadata": {
  "kernelspec": {
   "display_name": "Python 3 (ipykernel)",
   "language": "python",
   "name": "python3"
  },
  "language_info": {
   "codemirror_mode": {
    "name": "ipython",
    "version": 3
   },
   "file_extension": ".py",
   "mimetype": "text/x-python",
   "name": "python",
   "nbconvert_exporter": "python",
   "pygments_lexer": "ipython3",
   "version": "3.11.6"
  }
 },
 "nbformat": 4,
 "nbformat_minor": 5
}
