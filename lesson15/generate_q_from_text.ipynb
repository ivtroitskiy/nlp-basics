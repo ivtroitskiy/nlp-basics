{
 "cells": [
  {
   "cell_type": "markdown",
   "metadata": {},
   "source": [
    "Фрмирвоание вопросов по текстам, которые будем использовать для сравнения моделей"
   ]
  },
  {
   "cell_type": "code",
   "execution_count": 38,
   "metadata": {},
   "outputs": [],
   "source": [
    "from langchain.prompts import PromptTemplate\n",
    "from langchain_core.output_parsers import JsonOutputParser, StrOutputParser\n",
    "from langchain_openai import OpenAI\n",
    "import pandas as pd\n",
    "from tqdm import tqdm\n",
    "import yaml\n",
    "import json\n",
    "import os"
   ]
  },
  {
   "cell_type": "code",
   "execution_count": 39,
   "metadata": {},
   "outputs": [],
   "source": [
    "# Параметры скрипта\n",
    "\n",
    "# DOMAIN = 'movie'\n",
    "# DOMAIN = 'computer'\n",
    "DOMAIN = 'nature'"
   ]
  },
  {
   "cell_type": "code",
   "execution_count": 40,
   "metadata": {},
   "outputs": [],
   "source": [
    "with open('secrets.yaml', 'r') as f:\n",
    "    secrets = yaml.safe_load(f)\n",
    "\n",
    "openai_key = secrets['openai_key']"
   ]
  },
  {
   "cell_type": "markdown",
   "metadata": {},
   "source": [
    "Загружаем данные"
   ]
  },
  {
   "cell_type": "code",
   "execution_count": 41,
   "metadata": {},
   "outputs": [
    {
     "data": {
      "text/html": [
       "<div>\n",
       "<style scoped>\n",
       "    .dataframe tbody tr th:only-of-type {\n",
       "        vertical-align: middle;\n",
       "    }\n",
       "\n",
       "    .dataframe tbody tr th {\n",
       "        vertical-align: top;\n",
       "    }\n",
       "\n",
       "    .dataframe thead th {\n",
       "        text-align: right;\n",
       "    }\n",
       "</style>\n",
       "<table border=\"1\" class=\"dataframe\">\n",
       "  <thead>\n",
       "    <tr style=\"text-align: right;\">\n",
       "      <th></th>\n",
       "      <th>sent</th>\n",
       "    </tr>\n",
       "  </thead>\n",
       "  <tbody>\n",
       "    <tr>\n",
       "      <th>0</th>\n",
       "      <td>Chapleau River is in the James Bay drainage ba...</td>\n",
       "    </tr>\n",
       "    <tr>\n",
       "      <th>1</th>\n",
       "      <td>The mountains classification was won by Nicola...</td>\n",
       "    </tr>\n",
       "    <tr>\n",
       "      <th>2</th>\n",
       "      <td>The wreathed hornbill (Rhyticeros undulatus), ...</td>\n",
       "    </tr>\n",
       "    <tr>\n",
       "      <th>3</th>\n",
       "      <td>The podium placings were completed by another ...</td>\n",
       "    </tr>\n",
       "    <tr>\n",
       "      <th>4</th>\n",
       "      <td>The Australian swiftlet (Aerodramus terraeregi...</td>\n",
       "    </tr>\n",
       "  </tbody>\n",
       "</table>\n",
       "</div>"
      ],
      "text/plain": [
       "                                                sent\n",
       "0  Chapleau River is in the James Bay drainage ba...\n",
       "1  The mountains classification was won by Nicola...\n",
       "2  The wreathed hornbill (Rhyticeros undulatus), ...\n",
       "3  The podium placings were completed by another ...\n",
       "4  The Australian swiftlet (Aerodramus terraeregi..."
      ]
     },
     "execution_count": 41,
     "metadata": {},
     "output_type": "execute_result"
    }
   ],
   "source": [
    "with open(os.path.join('artifacts', DOMAIN, 'triples_gt.jsonl'), 'r', encoding='utf-8') as f:\n",
    "    data_text = f.readlines()\n",
    "\n",
    "df = pd.DataFrame({'sent': [json.loads(x)['sent'] for x in data_text]})\n",
    "df.head()"
   ]
  },
  {
   "cell_type": "markdown",
   "metadata": {},
   "source": [
    "Создаем промпт для экстракции вопросов из текста"
   ]
  },
  {
   "cell_type": "code",
   "execution_count": 42,
   "metadata": {},
   "outputs": [],
   "source": [
    "q_extract_prompt = \"\"\"\n",
    "Use the text provided to find the one most important question that can be answered using information from the text.\n",
    "The question must be standalone question and reflect the context.\n",
    "Return the possible questions as a JSON blob with 'question' key.\n",
    "Use \\\" insted \" to escape qoutes inside JSON text\n",
    "Text:\n",
    "\"{text}\"\n",
    "Output:\"\"\""
   ]
  },
  {
   "cell_type": "markdown",
   "metadata": {},
   "source": [
    "создаем объект PromptTemplate"
   ]
  },
  {
   "cell_type": "code",
   "execution_count": 43,
   "metadata": {},
   "outputs": [],
   "source": [
    "prompt = PromptTemplate.from_template(q_extract_prompt)"
   ]
  },
  {
   "cell_type": "markdown",
   "metadata": {},
   "source": [
    "инициализируем модель по умолчанию от OpenAI"
   ]
  },
  {
   "cell_type": "code",
   "execution_count": 44,
   "metadata": {},
   "outputs": [],
   "source": [
    "model = OpenAI(\n",
    "    temperature=0,\n",
    "    openai_api_key = openai_key\n",
    "    )"
   ]
  },
  {
   "cell_type": "code",
   "execution_count": 45,
   "metadata": {},
   "outputs": [
    {
     "data": {
      "text/plain": [
       "'gpt-3.5-turbo-instruct'"
      ]
     },
     "execution_count": 45,
     "metadata": {},
     "output_type": "execute_result"
    }
   ],
   "source": [
    "model.model_name"
   ]
  },
  {
   "cell_type": "markdown",
   "metadata": {},
   "source": [
    "Создаем чейн для обращения к модели и json-парсером, чтобы работать с выводом модели как со словарем, а не строкой"
   ]
  },
  {
   "cell_type": "code",
   "execution_count": 46,
   "metadata": {},
   "outputs": [],
   "source": [
    "chain = prompt | model | JsonOutputParser()"
   ]
  },
  {
   "cell_type": "code",
   "execution_count": 47,
   "metadata": {},
   "outputs": [
    {
     "name": "stderr",
     "output_type": "stream",
     "text": [
      "100%|██████████| 157/157 [01:36<00:00,  1.63it/s]\n"
     ]
    }
   ],
   "source": [
    "question_list = []\n",
    "for i_text in tqdm(df['sent']):\n",
    "    question = chain.invoke({'text' : i_text})\n",
    "    question_list.append(question['question'])"
   ]
  },
  {
   "cell_type": "code",
   "execution_count": 48,
   "metadata": {},
   "outputs": [
    {
     "data": {
      "text/plain": [
       "['What is the main tributary of Kapuskasing Lake?',\n",
       " 'Who won the mountains classification in the Tour de France?',\n",
       " 'What is the distribution of the wreathed hornbill species?',\n",
       " 'Who finished third on Willunga Hill and took four bonus seconds in the 2018 Tour Down Under?',\n",
       " 'What is the scientific name of the Australian swiftlet?',\n",
       " 'What is the family of Nesoluma plants?',\n",
       " \"Who won the Giro Rosa race for the second time in three years and took the overall lead of the UCI Women's World Tour standings?\",\n",
       " \"What is the name of the river that flows through Tai'an, Feicheng, and empties into Dongping Lake?\",\n",
       " 'Where is the feature located in relation to Istind Peak and Ahlmann Ridge in Queen Maud Land?',\n",
       " 'What is the genus of the only living member of the Long-tailed duck?',\n",
       " 'Where is Mount Sannosawa located?',\n",
       " 'What is the location of Ove Peak?',\n",
       " 'What towns does Pannerdens Kanaal flow past and where does it continue to the sea?',\n",
       " 'What is the relationship between Fan Frynych and Craig Cerrig-gleisiad?',\n",
       " 'What family does Asteriscus maritimus belong to?',\n",
       " 'Who won the race?',\n",
       " 'Where is Jones Nunatak located?',\n",
       " 'What is the elevation of the Veitskopf hill in the Eifel mountains of Germany?',\n",
       " 'Which riders won stage victories in addition to Greipel, Vermote, Groenewegen, Dennis, and Ewan?',\n",
       " 'Who won the race overall and by how many seconds?',\n",
       " 'Who won the 2015 race?',\n",
       " 'Where does the sacred kingfisher occur?',\n",
       " 'How long is the Shiawassee River and where does it flow into?',\n",
       " 'What is the only species in the genus Aphantochroa?',\n",
       " 'What is the highest mountain in the Eifel overall?',\n",
       " 'What is the family of the royal tern?',\n",
       " 'How long is Lake Kariba and how much water does it hold?',\n",
       " 'How long is Whatcom Creek and where does it drain to?',\n",
       " 'Who won the 2014 Volta ao Algarve race and how did they secure their victory?',\n",
       " 'Where is Rivière des Envies located?',\n",
       " 'What city does the Miami River run through?',\n",
       " 'What rivers formed part of the last section of the Erie Canal and Welland Canal?',\n",
       " 'What is the third-highest point in England and the Lake District?',\n",
       " 'What is the elevation of Rayna Knyaginya Peak?',\n",
       " 'What is the status of Kidsty Pike in relation to Rampsgill Head?',\n",
       " 'What is the family of the Arctic tern?',\n",
       " 'What changes were made to the family Penaeaceae under the APG III system of classification?',\n",
       " 'What is the height of the Schneefernerkopf peak in the Zugspitze massif?',\n",
       " 'Where is Il Madone located?',\n",
       " 'Where is Pizzo Pesciora located?',\n",
       " 'What is the Xhosa name for Silene undulata and what does it mean?',\n",
       " 'What is the main outlet of Sebago Lake?',\n",
       " 'What is the name of the river that is a right tributary of the Hunte in Lower Saxony, Germany?',\n",
       " 'What are the common names for Pilosella caespitosa?',\n",
       " \"Who won the race and took the lead of the overall Women's World Tour standings?\",\n",
       " 'What is the name used by some authors for this subfamily?',\n",
       " 'What is the full storage capacity of Abiquiu Lake in New Mexico?',\n",
       " 'What is the name of the reservoir and where is it located?',\n",
       " 'What is the height of Kahiltna Dome?',\n",
       " 'What is the size of the Fontana Lake impounded by the dam?',\n",
       " 'What is the parent line of Fusilier Peak and how far away is it from Constable Peak?',\n",
       " 'What region is Schwanberg a part of?',\n",
       " 'What is the height of Mount Moriya in Antarctica?',\n",
       " 'What river does Littfe flow into in Kreuztal?',\n",
       " 'What are the names of the tributaries of the river?',\n",
       " 'What is the common name of Chenopodium foliosum?',\n",
       " 'Where is Longhorn Dam located?',\n",
       " 'What is the height of the Hochkelberg mountain in the Vulkan Eifel in Germany?',\n",
       " 'Which towns does Zagyva flow through and where does it flow into?',\n",
       " 'What are the two main tributaries that form the second branch of the Zanskar River?',\n",
       " 'How far is the most remote headwater of Lake Victoria from the Blue Nile?',\n",
       " 'What is the family that Malva acerifolia belongs to?',\n",
       " 'How long is the Urubamba River and what river does it join with?',\n",
       " 'What rivers form the Slave River?',\n",
       " 'What are the two possible routes for hikers to approach the mountain and what landmarks can they visit along the way?',\n",
       " 'What is the elevation range of the plateau between Mallerstang Edge and Great Shunner Fell?',\n",
       " 'What is the average size of a stable pygmy marmoset troop?',\n",
       " 'What is the parent peak of Foel y Geifr?',\n",
       " 'What is the largest tributary of the Ohio River?',\n",
       " 'Where is the 14,048-foot fourteener located?',\n",
       " 'What is the definition of the superfamily Papilionoidea?',\n",
       " 'What town was relocated due to the flooding of Lac du Chevril?',\n",
       " 'What is the scientific name of the cobbler wobbegong?',\n",
       " 'Who won the race?',\n",
       " 'What is the connection between Shadow Mountain Lake and Grand Lake?',\n",
       " 'What is the family of fungi that Henrica belongs to?',\n",
       " 'What was the estimated damage from the flood in Cerro Gordo county and the total damage along the Cedar River and Iowa River basin?',\n",
       " 'What is the purpose of the dam on the Verzasca River?',\n",
       " \"What is the meaning of the term 'cresso' in old Germanic language?\",\n",
       " 'Who won the race?',\n",
       " 'Who won the 2015 Ladies Tour of Norway?',\n",
       " 'What family does Polygonum pensylvanicum belong to?',\n",
       " 'What is the height of Mount Bowles in meters?',\n",
       " 'Where is Mont Durand located?',\n",
       " 'What recreational activities are popular at Green Peter Reservoir?',\n",
       " 'What is the scientific name of the white-browed purpletuft bird?',\n",
       " 'How long is the upper Shire River before it enters Lake Malombe?',\n",
       " 'What is the size of Chatuge Lake and where does it straddle?',\n",
       " 'What mountains can be seen from Le Linleu?',\n",
       " 'What is the genus of triggerfish?',\n",
       " 'What rivers join the Yamuna after a certain point?',\n",
       " 'What is the highest mountain between Lake Geneva and the Mont Blanc Massif?',\n",
       " 'What is the largest North American river that empties into the Pacific Ocean?',\n",
       " 'What are the largest tributaries of the Salzach river?',\n",
       " 'Where is the Edward River located?',\n",
       " 'Where is the location of the Hoh Brisen?',\n",
       " \"Who won the 2017 Tour of Austria's professional race?\",\n",
       " 'Where is the Japanese wobbegong found?',\n",
       " 'What does the canal through Zuid-Beveland connect?',\n",
       " 'What is the subfamily of the bloodworm family Chironomidae that Cricotopus belongs to?',\n",
       " 'Where is the Cima di Broglio located?',\n",
       " 'Where is Denison Dam located?',\n",
       " 'Where is the dam located and what does it impound?',\n",
       " 'Where does Steinkjerelva flow into?',\n",
       " 'When was Tridesmostemon described as a genus?',\n",
       " 'Who won the youth classification jersey at the 2013 Tour of California?',\n",
       " 'Who won the mountains classification jersey in the Tour de France?',\n",
       " 'What is the name of the reservoir behind the dam?',\n",
       " 'What are the parent plants of Bhut jolokia and how is it related to the Naga Morich?',\n",
       " 'What is the rough-legged buzzard also known as?',\n",
       " 'What is the height of Celestial Peak?',\n",
       " 'Where is Ben Loyal located and what views does it offer?',\n",
       " 'Where is Nichols Rock located?',\n",
       " 'What is the scientific classification of Aerides orchids?',\n",
       " 'What is the height of Mureno Peak in Antarctica?',\n",
       " 'What was the purpose of establishing Lake Burley Griffin?',\n",
       " 'What is the scientific name of the butterfly species previously known as Plebejus sephirus?',\n",
       " 'What is the location of North Wabassie River and what is its relationship to the Atikameg River?',\n",
       " 'Where does Volp join the Garonne?',\n",
       " 'Where does Barguelonne flow into the Garonne?',\n",
       " 'What is the height ranking of Mount Foraker in the Alaska Range and the United States?',\n",
       " 'Where does the Schwabinger Bach flow into the Isar?',\n",
       " 'Where is Pointe de Zinal situated?',\n",
       " 'What are the names of the tributaries of the rivers Wiltz, Alzette, White Ernz, Black Ernz, Our, and PrÃ¼m?',\n",
       " 'Where is Piz Fliana located?',\n",
       " 'How long is the distance of the Bhaga river before its confluence at Tandi?',\n",
       " 'What is the main tributary of the Niger River?',\n",
       " 'What is the location of Brautnuten Peak?',\n",
       " 'What is the length of River Artro and where is its source located?',\n",
       " 'What is the location of the Nemegosenda River?',\n",
       " 'What percentage of the genera and species in the ostariophysian order Cypriniformes are made up of cyprinids?',\n",
       " 'Where is Pizzo Pesciora located?',\n",
       " 'Is the black scoter of North America and eastern Siberia considered a subspecies of M. nigra?',\n",
       " 'What is the scientific name of Arthurs galaxias?',\n",
       " 'Who won the race and what team were they from?',\n",
       " 'What is the name of the reservoir created by the Dubăsari Dam?',\n",
       " 'How many species are there in the genus Sesamum?',\n",
       " 'What is the genus Pelliciera included in according to the APG III system?',\n",
       " 'What is the height of Mount Eisenhower in New Hampshire?',\n",
       " 'What is the altitude of the Daumberg volcano in the Odenwald mountain range?',\n",
       " 'What is the name of the reservoir that the Kurshab flows into?',\n",
       " 'What is the name of the reservoir impounded by the dam?',\n",
       " 'What is the consensus on the placement of the family in the Dasyuromorphia order?',\n",
       " 'What is the name of the lake impounded by Starcke Dam?',\n",
       " 'What is the scientific name of the broad-billed sandpiper?',\n",
       " 'What family does Cinnamomum belong to?',\n",
       " 'What is the only member of the genus Alle?',\n",
       " 'What is the location of Gardiner River and what is its relationship to the Mattagami River?',\n",
       " 'What is the height of Jekselen Peak and where is it located?',\n",
       " 'Where does the Miami Canal flow from and to?',\n",
       " 'Which team won the teams classification in the race mentioned in the text?',\n",
       " 'Where is San Emigdio Mountain located?',\n",
       " 'What is the Chuya Steppe and how was it formed?',\n",
       " 'What is the maximum water level in Banks Lake?',\n",
       " 'What is the direction of flow of the Lugenda River and what is its relationship to Lake Amaramba/Lake Chiuta and the Ruvuma River?',\n",
       " 'Where does the Sandanska Bistritsa take its source from?',\n",
       " 'What is the scientific name of the willet?']"
      ]
     },
     "execution_count": 48,
     "metadata": {},
     "output_type": "execute_result"
    }
   ],
   "source": [
    "question_list"
   ]
  },
  {
   "cell_type": "code",
   "execution_count": 49,
   "metadata": {},
   "outputs": [],
   "source": [
    "df['question'] = question_list\n",
    "df.to_csv(os.path.join('artifacts', DOMAIN, 'eval_dataset.csv'), index=False)"
   ]
  },
  {
   "cell_type": "code",
   "execution_count": null,
   "metadata": {},
   "outputs": [],
   "source": []
  }
 ],
 "metadata": {
  "kernelspec": {
   "display_name": ".venv",
   "language": "python",
   "name": "python3"
  },
  "language_info": {
   "codemirror_mode": {
    "name": "ipython",
    "version": 3
   },
   "file_extension": ".py",
   "mimetype": "text/x-python",
   "name": "python",
   "nbconvert_exporter": "python",
   "pygments_lexer": "ipython3",
   "version": "3.11.8"
  }
 },
 "nbformat": 4,
 "nbformat_minor": 2
}
