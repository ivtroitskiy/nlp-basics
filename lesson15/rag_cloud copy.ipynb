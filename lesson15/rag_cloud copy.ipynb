{
 "cells": [
  {
   "cell_type": "markdown",
   "id": "c034d957-cc6d-4914-98ff-7468d7306567",
   "metadata": {
    "tags": []
   },
   "source": [
    "%pip install transformers==4.38.2\n",
    "%pip install peft==0.10.0\n",
    "%pip install sentencepiece==0.2.0\n",
    "%pip install accelerate==0.28.0\n",
    "%pip install -i https://pypi.org/simple/ bitsandbytes\n",
    "\n",
    "%pip install --force-reinstall chromadb==0.4.23 \n",
    "%pip install --force-reinstall llama_index==0.10.12\n",
    "%pip install --force-reinstall sentence_transformers==2.2.2"
   ]
  },
  {
   "cell_type": "code",
   "execution_count": 25,
   "id": "bbb6edf9-d471-4934-89b9-de2a351517dd",
   "metadata": {
    "tags": []
   },
   "outputs": [],
   "source": [
    "from typing import List\n",
    "import json\n",
    "import chromadb\n",
    "from llama_index.core import ServiceContext, StorageContext\n",
    "from chromadb.utils.embedding_functions import SentenceTransformerEmbeddingFunction\n",
    "from llama_index.llms.openai import OpenAI\n",
    "from llama_index.core.graph_stores import SimpleGraphStore\n",
    "from llama_index.core.query_engine import RetrieverQueryEngine\n",
    "from llama_index.core.retrievers import KnowledgeGraphRAGRetriever\n",
    "from transformers import AutoModelForCausalLM, AutoTokenizer, set_seed, GenerationConfig\n",
    "from sklearn.metrics.pairwise import cosine_similarity\n",
    "import numpy as np\n",
    "import pandas as pd\n",
    "import ast\n",
    "import torch\n",
    "from tqdm.auto import tqdm\n",
    "set_seed(42)"
   ]
  },
  {
   "cell_type": "code",
   "execution_count": 26,
   "id": "9eea6f66",
   "metadata": {},
   "outputs": [],
   "source": [
    "MODEL_NAME = 'IlyaGusev/saiga_mistral_7b'\n",
    "\n",
    "#MODEL_NAME =\"openchat/openchat-3.5-0106\"\n",
    "\n",
    "EMBED_MODEL = 'intfloat/e5-large-v2'\n",
    "EMBED_MODEL = 'BAAI/bge-small-en-v1.5'"
   ]
  },
  {
   "cell_type": "code",
   "execution_count": 27,
   "id": "d839722e",
   "metadata": {},
   "outputs": [
    {
     "name": "stdout",
     "output_type": "stream",
     "text": [
      "Total video memory: 7951.19 MB\n",
      "Available video memory: 576.00 MB\n"
     ]
    }
   ],
   "source": [
    "import torch\n",
    "\n",
    "# Get the properties of the CUDA device\n",
    "device = torch.device(\"cuda\" if torch.cuda.is_available() else \"cpu\")\n",
    "properties = torch.cuda.get_device_properties(device)\n",
    "\n",
    "# Print the total memory and memory available on the CUDA device\n",
    "total_memory = properties.total_memory / 1024**2  # Convert to megabytes\n",
    "memory_available = torch.cuda.memory_reserved(device) / 1024**2  # Convert to megabytes\n",
    "\n",
    "print(f\"Total video memory: {total_memory:.2f} MB\")\n",
    "print(f\"Available video memory: {memory_available:.2f} MB\")"
   ]
  },
  {
   "cell_type": "markdown",
   "id": "7fdd6ff7-89fa-4298-9c00-e59cef19a55e",
   "metadata": {},
   "source": [
    "Иницилизируем модель для получения эмббедингов"
   ]
  },
  {
   "cell_type": "code",
   "execution_count": 28,
   "id": "12b080ef-9bd7-4692-9862-22e3473d9a92",
   "metadata": {
    "tags": []
   },
   "outputs": [],
   "source": [
    "embed_model = SentenceTransformerEmbeddingFunction(model_name=EMBED_MODEL, \n",
    "                                                device='cuda'\n",
    "                                                )"
   ]
  },
  {
   "cell_type": "markdown",
   "id": "7ad4ee6f-c9a9-4791-b1ae-e307fbf7734a",
   "metadata": {},
   "source": [
    "Создаем коллекцию в векторном хранилище"
   ]
  },
  {
   "cell_type": "code",
   "execution_count": 29,
   "id": "4c032439-3867-42b1-876c-a076a36e5c9e",
   "metadata": {
    "tags": []
   },
   "outputs": [
    {
     "data": {
      "text/plain": [
       "[Collection(name=RAG)]"
      ]
     },
     "execution_count": 29,
     "metadata": {},
     "output_type": "execute_result"
    }
   ],
   "source": [
    "client = chromadb.Client()\n",
    "collection = client.get_or_create_collection(\"RAG\", embedding_function=embed_model,\n",
    "    metadata={\"hnsw:space\": \"cosine\"} \n",
    "    )\n",
    "client.list_collections()"
   ]
  },
  {
   "cell_type": "markdown",
   "id": "6a516edf-e742-457f-9416-37d21060d0c2",
   "metadata": {},
   "source": [
    "Загружаем данные"
   ]
  },
  {
   "cell_type": "code",
   "execution_count": 30,
   "id": "07cb3cc3-a598-44f3-9df8-f058899634c2",
   "metadata": {
    "tags": []
   },
   "outputs": [],
   "source": [
    "#file_path = \"triples_ft_pp.jsonl\"\n",
    "file_path = \"data/movie_ground_truth.jsonl\" # больше данных - больше вариативность\n",
    "\n",
    "with open(file_path, \"r\") as f:\n",
    "    data = f.readlines()"
   ]
  },
  {
   "cell_type": "code",
   "execution_count": 31,
   "id": "402990c0-f2d8-45fa-a363-2038b9d82531",
   "metadata": {
    "tags": []
   },
   "outputs": [],
   "source": [
    "documents = []\n",
    "for i_text in data:\n",
    "    i_text = json.loads(i_text)\n",
    "    documents.append(i_text['sent'])"
   ]
  },
  {
   "cell_type": "code",
   "execution_count": 32,
   "id": "f1c35c9c-7a29-4d59-8611-c6c878cd5ae5",
   "metadata": {
    "tags": []
   },
   "outputs": [],
   "source": [
    "metadata = [{'subject': 'movie'} for i in range(len(documents))]"
   ]
  },
  {
   "cell_type": "markdown",
   "id": "3d6965e6",
   "metadata": {},
   "source": [
    "### Грузим каталог"
   ]
  },
  {
   "cell_type": "code",
   "execution_count": 33,
   "id": "1fe1c8ca",
   "metadata": {},
   "outputs": [
    {
     "data": {
      "text/html": [
       "<div>\n",
       "<style scoped>\n",
       "    .dataframe tbody tr th:only-of-type {\n",
       "        vertical-align: middle;\n",
       "    }\n",
       "\n",
       "    .dataframe tbody tr th {\n",
       "        vertical-align: top;\n",
       "    }\n",
       "\n",
       "    .dataframe thead th {\n",
       "        text-align: right;\n",
       "    }\n",
       "</style>\n",
       "<table border=\"1\" class=\"dataframe\">\n",
       "  <thead>\n",
       "    <tr style=\"text-align: right;\">\n",
       "      <th></th>\n",
       "      <th>title</th>\n",
       "      <th>url</th>\n",
       "      <th>price</th>\n",
       "      <th>text</th>\n",
       "    </tr>\n",
       "  </thead>\n",
       "  <tbody>\n",
       "    <tr>\n",
       "      <th>0</th>\n",
       "      <td>Возрожденное будущее Т Хига</td>\n",
       "      <td>https://em-russia.ru/shop/all/vozrozhdennoe-bu...</td>\n",
       "      <td>0</td>\n",
       "      <td>NaN</td>\n",
       "    </tr>\n",
       "    <tr>\n",
       "      <th>1</th>\n",
       "      <td>Брошюра Природное земледелие с ЭМ</td>\n",
       "      <td>https://em-russia.ru/shop/all/broshyura-prirod...</td>\n",
       "      <td>191</td>\n",
       "      <td>NaN</td>\n",
       "    </tr>\n",
       "    <tr>\n",
       "      <th>2</th>\n",
       "      <td>ЭМ БИО концентрат 1 ВОСТОК ЭМ 1</td>\n",
       "      <td>https://em-russia.ru/shop/all/em-bio-kontsentr...</td>\n",
       "      <td>780</td>\n",
       "      <td>Набор для самостоятельного активирования (приг...</td>\n",
       "    </tr>\n",
       "    <tr>\n",
       "      <th>3</th>\n",
       "      <td>ЭМ 5 биорегулятор болезни вредители</td>\n",
       "      <td>https://em-russia.ru/shop/all/em-5-bioregulyat...</td>\n",
       "      <td>515</td>\n",
       "      <td>Предназначен для предотвращения заболеваний и ...</td>\n",
       "    </tr>\n",
       "    <tr>\n",
       "      <th>4</th>\n",
       "      <td>ОФЭМ удобрение ЭМ Бокаси</td>\n",
       "      <td>https://em-russia.ru/shop/all/ofem-udobrenie-e...</td>\n",
       "      <td>565</td>\n",
       "      <td>Универсальное органическое удобрение производи...</td>\n",
       "    </tr>\n",
       "  </tbody>\n",
       "</table>\n",
       "</div>"
      ],
      "text/plain": [
       "                                 title  \\\n",
       "0          Возрожденное будущее Т Хига   \n",
       "1   Брошюра Природное земледелие с ЭМ    \n",
       "2     ЭМ БИО концентрат 1 ВОСТОК ЭМ 1    \n",
       "3  ЭМ 5 биорегулятор болезни вредители   \n",
       "4            ОФЭМ удобрение ЭМ Бокаси    \n",
       "\n",
       "                                                 url  price  \\\n",
       "0  https://em-russia.ru/shop/all/vozrozhdennoe-bu...      0   \n",
       "1  https://em-russia.ru/shop/all/broshyura-prirod...    191   \n",
       "2  https://em-russia.ru/shop/all/em-bio-kontsentr...    780   \n",
       "3  https://em-russia.ru/shop/all/em-5-bioregulyat...    515   \n",
       "4  https://em-russia.ru/shop/all/ofem-udobrenie-e...    565   \n",
       "\n",
       "                                                text  \n",
       "0                                                NaN  \n",
       "1                                                NaN  \n",
       "2  Набор для самостоятельного активирования (приг...  \n",
       "3  Предназначен для предотвращения заболеваний и ...  \n",
       "4  Универсальное органическое удобрение производи...  "
      ]
     },
     "execution_count": 33,
     "metadata": {},
     "output_type": "execute_result"
    }
   ],
   "source": [
    "df = pd.read_csv('../lesson12/data/data.csv_')\n",
    "df.head()"
   ]
  },
  {
   "cell_type": "code",
   "execution_count": 41,
   "id": "c7eb74f7",
   "metadata": {},
   "outputs": [],
   "source": [
    "documents = []\n",
    "metadata = []\n",
    "for index, row in df.iterrows():\n",
    "    \n",
    "    documents.append(row['title'])\n",
    "    metadata.append({'url' : row['url']})\n",
    "    \n",
    "    documents.append(row['text'])\n",
    "    metadata.append({'url' : row['url']})"
   ]
  },
  {
   "cell_type": "markdown",
   "id": "cbb1037d",
   "metadata": {},
   "source": [
    "### Грузим статьи"
   ]
  },
  {
   "cell_type": "code",
   "execution_count": 42,
   "id": "537c5830",
   "metadata": {},
   "outputs": [],
   "source": [
    "import os\n",
    "for filename in os.listdir('../lesson12/data/page_texts/'):\n",
    "    with open('../lesson12/data/page_texts/' + filename, 'r') as f:\n",
    "        sentenses = f.read()\n",
    "        \n",
    "        #for sentense in sentenses:\n",
    "        documents.append(sentenses)\n",
    "        metadata.append({'url' : f'https://em-russia.ru/base/{filename.split(\".\")[0]}/'})\n",
    "        \n",
    "    "
   ]
  },
  {
   "cell_type": "code",
   "execution_count": 43,
   "id": "08cd8972",
   "metadata": {},
   "source": [
    "metadata"
   ]
  },
  {
   "cell_type": "markdown",
   "id": "99829661-94b0-435d-bade-e842fbb26447",
   "metadata": {},
   "source": [
    "Подготоавливаем данные для загрузки в векторную бд"
   ]
  },
  {
   "cell_type": "code",
   "execution_count": 12,
   "id": "926a5021",
   "metadata": {},
   "outputs": [],
   "source": [
    "metadata = [{'type': 'product'} for i in range(len(documents))]"
   ]
  },
  {
   "cell_type": "code",
   "execution_count": 13,
   "id": "7156ef60-7a9d-42b0-be9f-7b2e8e058dd5",
   "metadata": {
    "tags": []
   },
   "outputs": [],
   "source": [
    "ids = ['id'+str(collection.count()+i+1) for i in range(len(documents))]"
   ]
  },
  {
   "cell_type": "code",
   "execution_count": 14,
   "id": "4e1479c5-235f-4b12-9b88-5ba3506a40a9",
   "metadata": {
    "tags": []
   },
   "outputs": [],
   "source": [
    "collection.add(\n",
    "    documents=documents,\n",
    "    metadatas=metadata,\n",
    "    ids=ids,\n",
    ")\n"
   ]
  },
  {
   "cell_type": "code",
   "execution_count": 15,
   "id": "9bdeaac7-5f2d-4e9e-af5b-c99c2c452b20",
   "metadata": {
    "tags": []
   },
   "outputs": [
    {
     "name": "stderr",
     "output_type": "stream",
     "text": [
      "Special tokens have been added in the vocabulary, make sure the associated word embeddings are fine-tuned or trained.\n",
      "Special tokens have been added in the vocabulary, make sure the associated word embeddings are fine-tuned or trained.\n"
     ]
    },
    {
     "data": {
      "application/vnd.jupyter.widget-view+json": {
       "model_id": "0caac09f5bb046378ad6772eab217f16",
       "version_major": 2,
       "version_minor": 0
      },
      "text/plain": [
       "Loading checkpoint shards:   0%|          | 0/2 [00:00<?, ?it/s]"
      ]
     },
     "metadata": {},
     "output_type": "display_data"
    }
   ],
   "source": [
    "torch_device = \"cuda\" if torch.cuda.is_available() else \"cpu\"\n",
    "torch_device = \"cpu\"\n",
    "\n",
    "tokenizer = AutoTokenizer.from_pretrained(MODEL_NAME)\n",
    "\n",
    "model = AutoModelForCausalLM.from_pretrained(MODEL_NAME, \n",
    "                                             pad_token_id=tokenizer.eos_token_id).to(torch_device)"
   ]
  },
  {
   "cell_type": "code",
   "execution_count": 16,
   "id": "db086151-4b5e-47cf-be4d-07b1a2cd4849",
   "metadata": {
    "execution": {
     "iopub.execute_input": "2024-04-05T21:41:10.223118Z",
     "iopub.status.busy": "2024-04-05T21:41:10.222412Z",
     "iopub.status.idle": "2024-04-05T21:41:10.234974Z",
     "shell.execute_reply": "2024-04-05T21:41:10.233776Z",
     "shell.execute_reply.started": "2024-04-05T21:41:10.223083Z"
    },
    "tags": []
   },
   "outputs": [],
   "source": [
    "# model.generation_config = GenerationConfig(\n",
    "#        do_sample=True,\n",
    "#        top_k=50,\n",
    "#        top_p=0.95,\n",
    "#        num_return_sequences=num_return_sequences, \n",
    "#        num_beams=num_beams,\n",
    "#        temperature=0.5\n",
    "#    )"
   ]
  },
  {
   "cell_type": "markdown",
   "id": "0a486484-f3ad-4ce2-b49b-cc0f81e59d21",
   "metadata": {},
   "source": [
    "Промпт для RAG"
   ]
  },
  {
   "cell_type": "code",
   "execution_count": 17,
   "id": "9b27f5cc-656c-4fe5-80ba-1b44c587a9b8",
   "metadata": {
    "tags": []
   },
   "outputs": [],
   "source": [
    "prompt = \"\"\"Context information is below.\n",
    "---------------------\n",
    "{context}\n",
    "---------------------\n",
    "Given the context information and not prior knowledge, answer the query.\n",
    "Query: {query}\n",
    "Answer:\"\"\""
   ]
  },
  {
   "cell_type": "markdown",
   "id": "f9bcbb9b-1b94-4304-8d87-906fc7bfa5bb",
   "metadata": {},
   "source": [
    "Функция для поиска контекста"
   ]
  },
  {
   "cell_type": "code",
   "execution_count": 18,
   "id": "f1ca6145-8f84-4f24-86d1-b63d93a0da57",
   "metadata": {
    "tags": []
   },
   "outputs": [],
   "source": [
    "def get_context(query):\n",
    "    context_raw = collection.query(query_texts=query, n_results=3)\n",
    "    context = \"\\n\".join(context_raw['documents'][0])\n",
    "    return context"
   ]
  },
  {
   "cell_type": "markdown",
   "id": "d7998c6d-60b0-4b61-b186-e16dd9241a7b",
   "metadata": {},
   "source": [
    "Функция для генерации нескольких ответов модели"
   ]
  },
  {
   "cell_type": "markdown",
   "id": "5eb652fc-8234-4f37-b145-fb3309960155",
   "metadata": {},
   "source": [
    "Закомментированные параметры - эксперимент"
   ]
  },
  {
   "cell_type": "code",
   "execution_count": 19,
   "id": "aa217e68-1d51-4d90-9476-fd0f1cc7f7fe",
   "metadata": {
    "tags": []
   },
   "outputs": [],
   "source": [
    "def get_model_output(context, query):\n",
    "    model_inputs = tokenizer(prompt.format(context=context, query=query), return_tensors='pt').to(torch_device)\n",
    "\n",
    "    sample_outputs = model.generate(\n",
    "    **model_inputs,\n",
    "    max_new_tokens=50,\n",
    "    do_sample=False, # True,\n",
    "    #top_k=50,\n",
    "    #top_p=0.95,\n",
    "    num_return_sequences=3, #6, \n",
    "    num_beams=3, #6,\n",
    "    temperature=None\n",
    "    )\n",
    "\n",
    "    result = []\n",
    "    for i, output in enumerate(sample_outputs):\n",
    "        result.append(tokenizer.decode(output, skip_special_tokens=True).split(\"Answer:\")[1].strip().split(\"\\n\")[0].strip())\n",
    "    return result"
   ]
  },
  {
   "cell_type": "code",
   "execution_count": 20,
   "id": "e36c68aa-d237-4b1b-a2bb-37303cf3714a",
   "metadata": {
    "tags": []
   },
   "outputs": [],
   "source": [
    "def get_output_texts(query: str) -> List[str]:\n",
    "    context = get_context(query)\n",
    "    output_texts = get_model_output(context, query)\n",
    "    return output_texts"
   ]
  },
  {
   "cell_type": "markdown",
   "id": "c26b74b2-0578-41b5-a8ff-7b25a77acc29",
   "metadata": {},
   "source": [
    "Тест"
   ]
  },
  {
   "cell_type": "code",
   "execution_count": 21,
   "id": "2644d57f-e96b-47b3-b5f6-7e9c30b90091",
   "metadata": {
    "tags": []
   },
   "outputs": [
    {
     "name": "stderr",
     "output_type": "stream",
     "text": [
      "Setting `pad_token_id` to `eos_token_id`:32000 for open-end generation.\n"
     ]
    },
    {
     "data": {
      "text/plain": [
       "['Убирать помещения можно разными способами, но наиболее эффективным и безопасным способом является использование вакуумной уборки. Ваку',\n",
       " 'Убирать помещения можно разными способами, но наиболее эффективным и безопасным способом является использование вакуум-чистки. Ваку',\n",
       " 'Убирать помещения можно разными способами, но наиболее эффективным и безопасным способом является использование вакуум-чистки. Это']"
      ]
     },
     "execution_count": 21,
     "metadata": {},
     "output_type": "execute_result"
    }
   ],
   "source": [
    "get_output_texts(\"Чем лучше убирать помещения?\")"
   ]
  },
  {
   "cell_type": "code",
   "execution_count": null,
   "id": "192300ff-3f8c-44a0-83a8-7bc9c29969e8",
   "metadata": {},
   "outputs": [],
   "source": []
  },
  {
   "cell_type": "code",
   "execution_count": null,
   "id": "01364411-585e-4e04-aa72-3d07a7ec12eb",
   "metadata": {},
   "outputs": [],
   "source": []
  },
  {
   "cell_type": "code",
   "execution_count": 22,
   "id": "294a0257-c0ff-4036-a76c-1c3e6b064494",
   "metadata": {
    "execution": {
     "iopub.execute_input": "2024-04-05T21:41:16.143374Z",
     "iopub.status.busy": "2024-04-05T21:41:16.142563Z",
     "iopub.status.idle": "2024-04-05T21:41:16.159769Z",
     "shell.execute_reply": "2024-04-05T21:41:16.158695Z",
     "shell.execute_reply.started": "2024-04-05T21:41:16.143341Z"
    },
    "tags": []
   },
   "outputs": [],
   "source": [
    "#df = pd.read_csv('eval_dataset.csv')"
   ]
  },
  {
   "cell_type": "code",
   "execution_count": 23,
   "id": "4a8aad8f-4cb7-429a-8545-5e22c7cb60d1",
   "metadata": {
    "execution": {
     "iopub.execute_input": "2024-04-05T21:41:16.161785Z",
     "iopub.status.busy": "2024-04-05T21:41:16.160812Z",
     "iopub.status.idle": "2024-04-05T21:41:16.172040Z",
     "shell.execute_reply": "2024-04-05T21:41:16.171092Z",
     "shell.execute_reply.started": "2024-04-05T21:41:16.161720Z"
    },
    "tags": []
   },
   "outputs": [],
   "source": [
    "#df = df.head(3)\n",
    "#df"
   ]
  },
  {
   "cell_type": "markdown",
   "id": "02d6b2da-97b8-4c82-b561-81f27f86f3b9",
   "metadata": {},
   "source": [
    "Получение выходов<br>\n",
    "Тут сделан алгоритм, который запускает модель несколько раз, чтобы выбрать ответ с отличиющимися ответами<br>\n",
    "Но когда температура выключена, то повтор не имеет смысле (закомментирован)<br>\n",
    "Экспериментально, отключение семплинга позволяет beam search выдавать более разнообразные ответы<br>\n",
    "Поэтому закомментирвоано как эксперимент"
   ]
  },
  {
   "cell_type": "code",
   "execution_count": 24,
   "id": "05cb4a57-1c32-44ee-b6f3-f6e999d19621",
   "metadata": {
    "execution": {
     "iopub.execute_input": "2024-04-05T21:41:51.854709Z",
     "iopub.status.busy": "2024-04-05T21:41:51.853724Z",
     "iopub.status.idle": "2024-04-05T21:52:50.681520Z",
     "shell.execute_reply": "2024-04-05T21:52:50.680Z",
     "shell.execute_reply.started": "2024-04-05T21:41:51.854671Z"
    },
    "tags": []
   },
   "outputs": [
    {
     "ename": "AttributeError",
     "evalue": "'DataFrame' object has no attribute 'question'",
     "output_type": "error",
     "traceback": [
      "\u001b[0;31m---------------------------------------------------------------------------\u001b[0m",
      "\u001b[0;31mAttributeError\u001b[0m                            Traceback (most recent call last)",
      "\u001b[0;32m/tmp/ipykernel_79705/2448720068.py\u001b[0m in \u001b[0;36m?\u001b[0;34m()\u001b[0m\n\u001b[1;32m      6\u001b[0m \u001b[0;34m\u001b[0m\u001b[0m\n\u001b[1;32m      7\u001b[0m \u001b[0mnum_return_sequences\u001b[0m \u001b[0;34m=\u001b[0m \u001b[0;36m3\u001b[0m\u001b[0;34m\u001b[0m\u001b[0;34m\u001b[0m\u001b[0m\n\u001b[1;32m      8\u001b[0m \u001b[0;34m\u001b[0m\u001b[0m\n\u001b[1;32m      9\u001b[0m \u001b[0mdata\u001b[0m \u001b[0;34m=\u001b[0m \u001b[0;34m[\u001b[0m\u001b[0;34m]\u001b[0m\u001b[0;34m\u001b[0m\u001b[0;34m\u001b[0m\u001b[0m\n\u001b[0;32m---> 10\u001b[0;31m \u001b[0;32mfor\u001b[0m \u001b[0mquery\u001b[0m \u001b[0;32min\u001b[0m \u001b[0mtqdm\u001b[0m\u001b[0;34m(\u001b[0m\u001b[0mdf\u001b[0m\u001b[0;34m.\u001b[0m\u001b[0mquestion\u001b[0m\u001b[0;34m)\u001b[0m\u001b[0;34m:\u001b[0m\u001b[0;34m\u001b[0m\u001b[0;34m\u001b[0m\u001b[0m\n\u001b[0m\u001b[1;32m     11\u001b[0m     \u001b[0;31m# когда нет семплинга\u001b[0m\u001b[0;34m\u001b[0m\u001b[0;34m\u001b[0m\u001b[0m\n\u001b[1;32m     12\u001b[0m     \u001b[0mdata\u001b[0m\u001b[0;34m.\u001b[0m\u001b[0mappend\u001b[0m\u001b[0;34m(\u001b[0m\u001b[0mget_output_texts\u001b[0m\u001b[0;34m(\u001b[0m\u001b[0mquery\u001b[0m\u001b[0;34m)\u001b[0m\u001b[0;34m[\u001b[0m\u001b[0;34m:\u001b[0m\u001b[0mnum_return_sequences\u001b[0m\u001b[0;34m]\u001b[0m\u001b[0;34m)\u001b[0m\u001b[0;34m\u001b[0m\u001b[0;34m\u001b[0m\u001b[0m\n\u001b[1;32m     13\u001b[0m \u001b[0;34m\u001b[0m\u001b[0m\n",
      "\u001b[0;32m~/projects/ds/nlp-basics/.venv/lib/python3.11/site-packages/pandas/core/generic.py\u001b[0m in \u001b[0;36m?\u001b[0;34m(self, name)\u001b[0m\n\u001b[1;32m   6295\u001b[0m             \u001b[0;32mand\u001b[0m \u001b[0mname\u001b[0m \u001b[0;32mnot\u001b[0m \u001b[0;32min\u001b[0m \u001b[0mself\u001b[0m\u001b[0;34m.\u001b[0m\u001b[0m_accessors\u001b[0m\u001b[0;34m\u001b[0m\u001b[0;34m\u001b[0m\u001b[0m\n\u001b[1;32m   6296\u001b[0m             \u001b[0;32mand\u001b[0m \u001b[0mself\u001b[0m\u001b[0;34m.\u001b[0m\u001b[0m_info_axis\u001b[0m\u001b[0;34m.\u001b[0m\u001b[0m_can_hold_identifiers_and_holds_name\u001b[0m\u001b[0;34m(\u001b[0m\u001b[0mname\u001b[0m\u001b[0;34m)\u001b[0m\u001b[0;34m\u001b[0m\u001b[0;34m\u001b[0m\u001b[0m\n\u001b[1;32m   6297\u001b[0m         ):\n\u001b[1;32m   6298\u001b[0m             \u001b[0;32mreturn\u001b[0m \u001b[0mself\u001b[0m\u001b[0;34m[\u001b[0m\u001b[0mname\u001b[0m\u001b[0;34m]\u001b[0m\u001b[0;34m\u001b[0m\u001b[0;34m\u001b[0m\u001b[0m\n\u001b[0;32m-> 6299\u001b[0;31m         \u001b[0;32mreturn\u001b[0m \u001b[0mobject\u001b[0m\u001b[0;34m.\u001b[0m\u001b[0m__getattribute__\u001b[0m\u001b[0;34m(\u001b[0m\u001b[0mself\u001b[0m\u001b[0;34m,\u001b[0m \u001b[0mname\u001b[0m\u001b[0;34m)\u001b[0m\u001b[0;34m\u001b[0m\u001b[0;34m\u001b[0m\u001b[0m\n\u001b[0m",
      "\u001b[0;31mAttributeError\u001b[0m: 'DataFrame' object has no attribute 'question'"
     ]
    }
   ],
   "source": [
    "def f7(seq):\n",
    "    \"\"\"Remove duplicates from a list, while preserving order \"\"\"\n",
    "    seen = set()\n",
    "    seen_add = seen.add\n",
    "    return [x for x in seq if not (x in seen or seen_add(x))]\n",
    "\n",
    "num_return_sequences = 3\n",
    "\n",
    "data = []\n",
    "for query in tqdm(df.question):\n",
    "    # когда нет семплинга\n",
    "    data.append(get_output_texts(query)[:num_return_sequences]) \n",
    "    \n",
    "    # когда есть семплинг\n",
    "    # max_unique = 0\n",
    "    # best_outputs = [''] * num_return_sequences\n",
    "    # for _ in range(5):\n",
    "    #     outputs = get_output_texts(query)\n",
    "    #     unique_count = len(set(outputs))\n",
    "    #     if unique_count > max_unique:\n",
    "    #         max_unique = unique_count\n",
    "    #         best_outputs = outputs\n",
    "    #         \n",
    "    #     if unique_count >= num_return_sequences:\n",
    "    #         break\n",
    "    #         \n",
    "    #     if unique_count == 1 and max_unique == 1:\n",
    "    #         break\n",
    "    #         \n",
    "    # best_outputs = f7(best_outputs)[:num_return_sequences]\n",
    "    # if len(best_outputs) != num_return_sequences:\n",
    "    #     best_outputs += [best_outputs[-1]] * (num_return_sequences - len(best_outputs))\n",
    "    #        \n",
    "    #data.append(best_outputs)"
   ]
  },
  {
   "cell_type": "code",
   "execution_count": null,
   "id": "1feef824-732f-4b6b-84d7-70d804042d99",
   "metadata": {},
   "outputs": [],
   "source": []
  },
  {
   "cell_type": "code",
   "execution_count": null,
   "id": "fc544455-a338-4d11-8153-60173eabf3ad",
   "metadata": {},
   "outputs": [],
   "source": []
  },
  {
   "cell_type": "markdown",
   "id": "a875c655-b396-426a-ae9f-157554bef4f0",
   "metadata": {},
   "source": [
    "Сохранение"
   ]
  },
  {
   "cell_type": "code",
   "execution_count": null,
   "id": "47bf017a-4abd-4ba7-b547-57e06dd9667e",
   "metadata": {
    "execution": {
     "iopub.execute_input": "2024-04-05T21:53:08.193126Z",
     "iopub.status.busy": "2024-04-05T21:53:08.192501Z",
     "iopub.status.idle": "2024-04-05T21:53:08.215239Z",
     "shell.execute_reply": "2024-04-05T21:53:08.214081Z",
     "shell.execute_reply.started": "2024-04-05T21:53:08.193075Z"
    },
    "tags": []
   },
   "outputs": [
    {
     "ename": "IndexError",
     "evalue": "list index out of range",
     "output_type": "error",
     "traceback": [
      "\u001b[0;31m---------------------------------------------------------------------------\u001b[0m",
      "\u001b[0;31mIndexError\u001b[0m                                Traceback (most recent call last)",
      "Cell \u001b[0;32mIn[19], line 5\u001b[0m\n\u001b[1;32m      2\u001b[0m data_t \u001b[38;5;241m=\u001b[39m \u001b[38;5;28mlist\u001b[39m(\u001b[38;5;28mmap\u001b[39m(\u001b[38;5;28mlist\u001b[39m, \u001b[38;5;28mzip\u001b[39m(\u001b[38;5;241m*\u001b[39mdata)))\n\u001b[1;32m      4\u001b[0m \u001b[38;5;28;01mfor\u001b[39;00m i, col \u001b[38;5;129;01min\u001b[39;00m \u001b[38;5;28menumerate\u001b[39m(columns):\n\u001b[0;32m----> 5\u001b[0m     df[col] \u001b[38;5;241m=\u001b[39m \u001b[43mdata_t\u001b[49m\u001b[43m[\u001b[49m\u001b[43mi\u001b[49m\u001b[43m]\u001b[49m\n",
      "\u001b[0;31mIndexError\u001b[0m: list index out of range"
     ]
    }
   ],
   "source": [
    "columns = [f'rag_{n}' for n in range(num_return_sequences)]\n",
    "data_t = list(map(list, zip(*data)))\n",
    "\n",
    "for i, col in enumerate(columns):\n",
    "    df[col] = data_t[i]"
   ]
  },
  {
   "cell_type": "code",
   "execution_count": null,
   "id": "8dbdbb74-ddc0-47e1-80c0-3cecebf1ee94",
   "metadata": {
    "execution": {
     "iopub.execute_input": "2024-04-05T21:53:08.803465Z",
     "iopub.status.busy": "2024-04-05T21:53:08.802438Z",
     "iopub.status.idle": "2024-04-05T21:53:08.842858Z",
     "shell.execute_reply": "2024-04-05T21:53:08.841675Z",
     "shell.execute_reply.started": "2024-04-05T21:53:08.803419Z"
    },
    "tags": []
   },
   "outputs": [
    {
     "data": {
      "text/plain": [
       "uniq_count\n",
       "2    63\n",
       "3    51\n",
       "1    43\n",
       "Name: count, dtype: int64"
      ]
     },
     "metadata": {},
     "output_type": "display_data"
    }
   ],
   "source": [
    "def uniq_count(r):\n",
    "    return len(set([r['rag_0'], r['rag_1'], r['rag_2']]))\n",
    "\n",
    "df['uniq_count'] = df.apply(uniq_count, axis=1)\n",
    "display(df['uniq_count'].value_counts())\n",
    "\n",
    "df.to_csv('eval_dataset.csv', index=False)"
   ]
  },
  {
   "cell_type": "code",
   "execution_count": null,
   "id": "3875df46-2321-4932-9aaa-1ab21b45a43d",
   "metadata": {},
   "outputs": [],
   "source": []
  }
 ],
 "metadata": {
  "kernelspec": {
   "display_name": "Python 3 (ipykernel)",
   "language": "python",
   "name": "python3"
  },
  "language_info": {
   "codemirror_mode": {
    "name": "ipython",
    "version": 3
   },
   "file_extension": ".py",
   "mimetype": "text/x-python",
   "name": "python",
   "nbconvert_exporter": "python",
   "pygments_lexer": "ipython3",
   "version": "3.11.6"
  }
 },
 "nbformat": 4,
 "nbformat_minor": 5
}
