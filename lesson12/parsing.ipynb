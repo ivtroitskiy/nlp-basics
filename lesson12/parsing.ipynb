{
 "cells": [
  {
   "cell_type": "code",
   "execution_count": 1,
   "metadata": {},
   "outputs": [
    {
     "name": "stdout",
     "output_type": "stream",
     "text": [
      "Requirement already satisfied: beautifulsoup4 in /home/tiv/projects/ds/nlp-basics/.venv/lib/python3.11/site-packages (4.12.3)\n",
      "Requirement already satisfied: soupsieve>1.2 in /home/tiv/projects/ds/nlp-basics/.venv/lib/python3.11/site-packages (from beautifulsoup4) (2.5)\n",
      "Note: you may need to restart the kernel to use updated packages.\n"
     ]
    }
   ],
   "source": [
    "%pip install beautifulsoup4"
   ]
  },
  {
   "cell_type": "code",
   "execution_count": 2,
   "metadata": {},
   "outputs": [],
   "source": [
    "import requests\n",
    "import re\n",
    "from bs4 import BeautifulSoup\n",
    "import pandas as pd"
   ]
  },
  {
   "cell_type": "code",
   "execution_count": 3,
   "metadata": {},
   "outputs": [],
   "source": [
    "USER_AGENT = 'Mozilla/5.0 (Macintosh; Intel Mac OS X 10_9_3) AppleWebKit/537.36 (KHTML, like Gecko) Chrome/35.0.1916.47 Safari/537.36'\n",
    "\n",
    "def get_page_text(url, user_agent=USER_AGENT, error_log=True):\n",
    "    headers = {'User-Agent': user_agent}\n",
    "    response = requests.get(url, headers=headers, allow_redirects=True)\n",
    "\n",
    "    if response.status_code == 200:\n",
    "        page_text = response.text\n",
    "        return page_text\n",
    "    elif error_log:\n",
    "        print(f'Ошибка! Response code: {response.status_code}')\n",
    "        print(f'URL: {url}')\n",
    "        print('--------------')\n",
    "    \n",
    "    return None"
   ]
  },
  {
   "cell_type": "code",
   "execution_count": 4,
   "metadata": {},
   "outputs": [],
   "source": [
    "index = 1\n",
    "url = f'https://em-russia.ru/shop/all/?PAGEN_1={index}&SIZEN_1=16'\n",
    "\n",
    "page_text = get_page_text(url, USER_AGENT)"
   ]
  },
  {
   "cell_type": "code",
   "execution_count": 5,
   "metadata": {},
   "outputs": [
    {
     "data": {
      "text/plain": [
       "'https://em-russia.ru/shop/all/?PAGEN_1=1&SIZEN_1=16'"
      ]
     },
     "execution_count": 5,
     "metadata": {},
     "output_type": "execute_result"
    }
   ],
   "source": [
    "url"
   ]
  },
  {
   "cell_type": "code",
   "execution_count": 6,
   "metadata": {},
   "outputs": [
    {
     "name": "stdout",
     "output_type": "stream",
     "text": [
      "<!doctype html>\n",
      "<html>\n",
      "<head>\n",
      "    <!-- Yandex.Metrika counter -->\n",
      "<script type=\"text/javascript\" >\n",
      "   (function(m,e,t,r,i,k,a){m[i]=m[i]||function(){(m[i].a=m[i].a||[]).push(arguments)};\n",
      "   m[i].l=1*new Date();\n",
      "   for (var j = 0; j < document.scripts.length; j++) {if (document.scripts[j].src === r) { return; }}\n",
      "   k=e.createElement(t),a=e.getElementsByTagName(t)[0],k.async=1,k.src=r,a.parentNode.insertBefore(k,a)})\n",
      "   (window, document, \"script\", \"https://mc.yandex.ru/metrika/tag.js\", \"ym\");\n",
      "\n",
      "   ym(96850838, \"init\", {\n",
      "        clickmap:true,\n",
      "        trackLinks:true,\n",
      "        accurateTrackBounce:true,\n",
      "        webvisor:true\n",
      "   });\n",
      "</script>\n",
      "<noscript><div><img src=\"https://mc.yandex.ru/watch/96850838\" style=\"position:absolute; left:-9999px;\" alt=\"\" /></div></noscript>\n",
      "<!-- /Yandex.Metrika counter -->\n",
      "\n",
      "    <meta property=\"og:type\" content=\"website\"/>\n",
      "    <meta property=\"og:site_name\" content=\"em-russia.ru\"/>\n",
      "    <meta property=\"og:title\" content=\"\"/>\n",
      "    <meta property=\"og:url\" content=\"htt\n"
     ]
    }
   ],
   "source": [
    "print(page_text[:1000])"
   ]
  },
  {
   "cell_type": "code",
   "execution_count": null,
   "metadata": {},
   "outputs": [],
   "source": []
  },
  {
   "cell_type": "code",
   "execution_count": 7,
   "metadata": {},
   "outputs": [
    {
     "name": "stdout",
     "output_type": "stream",
     "text": [
      "dowload page: 1\n",
      "dowload page: 2\n",
      "dowload page: 3\n"
     ]
    }
   ],
   "source": [
    "products = pd.DataFrame(columns=['title', 'url', 'price', 'description'])\n",
    "\n",
    "breakpoint = 0\n",
    "\n",
    "for page in (1,2,3):\n",
    "\n",
    "    print('dowload page:', page)\n",
    "    url = f'https://em-russia.ru/shop/all/?PAGEN_1={page}&SIZEN_1=16'\n",
    "\n",
    "    page_text = get_page_text(url, USER_AGENT)\n",
    "\n",
    "    soup = BeautifulSoup(page_text)\n",
    "    posts_list = soup.find_all('div', {'class': 'product__title'})   \n",
    "    for p in posts_list:\n",
    "        \n",
    "        lnk = p.find('a').attrs['href']\n",
    "        title = re.sub('[^А-ЯЁа-яё0-9\\s]', ' ', p.text)\n",
    "        title = re.sub('\\s\\s+', ' ', title)\n",
    "        \n",
    "        page_url = 'https://em-russia.ru' + lnk\n",
    "        clean_path = '/'.join([d for d in page_url.split('/')[2:] if len(d) > 0])\n",
    "        \n",
    "        page_text = get_page_text(page_url, USER_AGENT)\n",
    "        \n",
    "        if page_text is None:\n",
    "            continue\n",
    "        \n",
    "        description = ''\n",
    "        product_page = BeautifulSoup(page_text)\n",
    "        main_div = product_page.find('div', {'id': 'main'})\n",
    "        \n",
    "        cd = main_div.find('div', {'class': 'container'}, recursive=False) \n",
    "        \n",
    "        desc = cd.find('div')\n",
    "        \n",
    "        if desc is not None:\n",
    "            description = description + desc.text.strip()       \n",
    "        else:\n",
    "            print(desc)\n",
    "\n",
    "        tabs = cd.find_all('div', {'class': 'product-nav-tabs__button'})\n",
    "        \n",
    "        if tabs is None:\n",
    "            continue\n",
    "        else:\n",
    "            tabs_content = cd.find_all('div', {'class': 'product-tab'})\n",
    "            for t, tc in zip(tabs, tabs_content):\n",
    "                description = description + '\\n' + t.text.strip() + '\\r' +tc.text.strip()\n",
    "        \n",
    "        \n",
    "        description = re.sub('[\\n\\r]+', '\\n', description)\n",
    "        description = re.sub('[\\t]+', ' ', description)\n",
    "        price = main_div.find('span', {'id': 'item-price'})\n",
    "        price = re.sub('[^0-9\\.\\s]', ' ', price.text.strip())\n",
    "        \n",
    "        \n",
    "        products.loc[ len(products.index )] = [title, page_url, price, description]\n",
    "            \n",
    "        #breakpoint = breakpoint+1\n",
    "        #if breakpoint>5:\n",
    "        #    break \n",
    "            \n",
    "\n"
   ]
  },
  {
   "cell_type": "code",
   "execution_count": 8,
   "metadata": {},
   "outputs": [
    {
     "name": "stdout",
     "output_type": "stream",
     "text": [
      "Набор для самостоятельного активирования (приготовления) 3-х литров ЭМ-БИО («ЕМ·1 микробиологическое удобрение «Восток ЭМ-1») микробиологического удобрения для всех видов садовых и комнатных растений.\n",
      "  Концентрат ЭМ-БИО (ЕМ·1 микробиологическое удобрение «Восток ЭМ-1») представляет собой концентрированную культуру эффективных микроорганизмов, находящуюся в устойчивом неактивном состоянии и предназначенную для длительного хранения, визуально это – светло-коричневая жидкость с приятным кисломолочным запахом.\n",
      "  Срок годности: 12 месяцев с даты изготовления\n",
      "Состав\n",
      "В набор входит:\n",
      "концентрат ЭМ-БИО (ЕМ·1 микробиологическое удобрение «Восток ЭМ-1») в количестве  30 мл (3 ампулы по 10 мл)\n",
      "патока тростниковая 30 мл (3 ампулы по 10 мл) \n",
      "инструкция по разведению и применению. \n",
      "  СОСТАВ концентрата: вода питьевая, патока, комплекс молочнокислых бактерий, дрожжей и продуктов их жизнедеятельности. В 1 см3 содержится не менее 1*106 КОЕ молочнокислых бактерий и 1*104 КОЕ дрожжей.\n",
      "Применение\n",
      "Продукт применяется только после активации\n",
      "Как правильно активировать концентрат смотрите на вкладке \"Инструкция\"\n",
      " После активации применять согласно рекомендаций к продукту \"ЭМ-БИО\"\n",
      "Инструкция\n",
      "\n"
     ]
    }
   ],
   "source": [
    "print(products.iloc[2]['description'])"
   ]
  },
  {
   "cell_type": "code",
   "execution_count": 9,
   "metadata": {},
   "outputs": [],
   "source": [
    "products.to_csv('data.csv')"
   ]
  },
  {
   "cell_type": "code",
   "execution_count": 10,
   "metadata": {},
   "outputs": [
    {
     "data": {
      "text/html": [
       "<div>\n",
       "<style scoped>\n",
       "    .dataframe tbody tr th:only-of-type {\n",
       "        vertical-align: middle;\n",
       "    }\n",
       "\n",
       "    .dataframe tbody tr th {\n",
       "        vertical-align: top;\n",
       "    }\n",
       "\n",
       "    .dataframe thead th {\n",
       "        text-align: right;\n",
       "    }\n",
       "</style>\n",
       "<table border=\"1\" class=\"dataframe\">\n",
       "  <thead>\n",
       "    <tr style=\"text-align: right;\">\n",
       "      <th></th>\n",
       "      <th>title</th>\n",
       "      <th>url</th>\n",
       "      <th>price</th>\n",
       "      <th>description</th>\n",
       "    </tr>\n",
       "  </thead>\n",
       "  <tbody>\n",
       "    <tr>\n",
       "      <th>count</th>\n",
       "      <td>45</td>\n",
       "      <td>45</td>\n",
       "      <td>45</td>\n",
       "      <td>45</td>\n",
       "    </tr>\n",
       "    <tr>\n",
       "      <th>unique</th>\n",
       "      <td>32</td>\n",
       "      <td>45</td>\n",
       "      <td>38</td>\n",
       "      <td>37</td>\n",
       "    </tr>\n",
       "    <tr>\n",
       "      <th>top</th>\n",
       "      <td>ЭМ БИО удобрение 1 Восток ЭМ 1</td>\n",
       "      <td>https://em-russia.ru/shop/all/vozrozhdennoe-bu...</td>\n",
       "      <td>5 380  .</td>\n",
       "      <td>Устраняет неприятные запахи (в том числе запах...</td>\n",
       "    </tr>\n",
       "    <tr>\n",
       "      <th>freq</th>\n",
       "      <td>5</td>\n",
       "      <td>1</td>\n",
       "      <td>3</td>\n",
       "      <td>4</td>\n",
       "    </tr>\n",
       "  </tbody>\n",
       "</table>\n",
       "</div>"
      ],
      "text/plain": [
       "                                  title  \\\n",
       "count                                45   \n",
       "unique                               32   \n",
       "top     ЭМ БИО удобрение 1 Восток ЭМ 1    \n",
       "freq                                  5   \n",
       "\n",
       "                                                      url     price  \\\n",
       "count                                                  45        45   \n",
       "unique                                                 45        38   \n",
       "top     https://em-russia.ru/shop/all/vozrozhdennoe-bu...  5 380  .   \n",
       "freq                                                    1         3   \n",
       "\n",
       "                                              description  \n",
       "count                                                  45  \n",
       "unique                                                 37  \n",
       "top     Устраняет неприятные запахи (в том числе запах...  \n",
       "freq                                                    4  "
      ]
     },
     "execution_count": 10,
     "metadata": {},
     "output_type": "execute_result"
    }
   ],
   "source": [
    "products.describe()"
   ]
  }
 ],
 "metadata": {
  "kernelspec": {
   "display_name": ".venv",
   "language": "python",
   "name": "python3"
  },
  "language_info": {
   "codemirror_mode": {
    "name": "ipython",
    "version": 3
   },
   "file_extension": ".py",
   "mimetype": "text/x-python",
   "name": "python",
   "nbconvert_exporter": "python",
   "pygments_lexer": "ipython3",
   "version": "3.11.6"
  }
 },
 "nbformat": 4,
 "nbformat_minor": 2
}
