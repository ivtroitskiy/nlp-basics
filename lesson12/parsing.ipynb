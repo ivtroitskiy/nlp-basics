{
 "cells": [
  {
   "cell_type": "code",
   "execution_count": 56,
   "metadata": {},
   "outputs": [
    {
     "name": "stdout",
     "output_type": "stream",
     "text": [
      "Requirement already satisfied: beautifulsoup4 in /home/tiv/projects/ds/nlp-basics/.venv/lib/python3.11/site-packages (4.12.3)\n",
      "Requirement already satisfied: soupsieve>1.2 in /home/tiv/projects/ds/nlp-basics/.venv/lib/python3.11/site-packages (from beautifulsoup4) (2.5)\n",
      "Note: you may need to restart the kernel to use updated packages.\n"
     ]
    }
   ],
   "source": [
    "%pip install beautifulsoup4"
   ]
  },
  {
   "cell_type": "code",
   "execution_count": 57,
   "metadata": {},
   "outputs": [],
   "source": [
    "import requests\n",
    "import re\n",
    "from bs4 import BeautifulSoup\n",
    "import pandas as pd"
   ]
  },
  {
   "cell_type": "code",
   "execution_count": 58,
   "metadata": {},
   "outputs": [],
   "source": [
    "USER_AGENT = 'Mozilla/5.0 (Macintosh; Intel Mac OS X 10_9_3) AppleWebKit/537.36 (KHTML, like Gecko) Chrome/35.0.1916.47 Safari/537.36'\n",
    "\n",
    "def get_page_text(url, user_agent=USER_AGENT, error_log=True):\n",
    "    headers = {'User-Agent': user_agent}\n",
    "    response = requests.get(url, headers=headers, allow_redirects=True)\n",
    "\n",
    "    if response.status_code == 200:\n",
    "        page_text = response.text\n",
    "        return page_text\n",
    "    elif error_log:\n",
    "        print(f'Ошибка! Response code: {response.status_code}')\n",
    "        print(f'URL: {url}')\n",
    "        print('--------------')\n",
    "    \n",
    "    return None"
   ]
  },
  {
   "cell_type": "code",
   "execution_count": 59,
   "metadata": {},
   "outputs": [],
   "source": [
    "index = 1\n",
    "url = f'https://em-russia.ru/shop/all/?PAGEN_1={index}&SIZEN_1=16'\n",
    "\n",
    "page_text = get_page_text(url, USER_AGENT)"
   ]
  },
  {
   "cell_type": "code",
   "execution_count": 60,
   "metadata": {},
   "outputs": [
    {
     "data": {
      "text/plain": [
       "'https://em-russia.ru/shop/all/?PAGEN_1=1&SIZEN_1=16'"
      ]
     },
     "execution_count": 60,
     "metadata": {},
     "output_type": "execute_result"
    }
   ],
   "source": [
    "url"
   ]
  },
  {
   "cell_type": "code",
   "execution_count": 61,
   "metadata": {},
   "outputs": [
    {
     "name": "stdout",
     "output_type": "stream",
     "text": [
      "<!doctype html>\n",
      "<html>\n",
      "<head>\n",
      "    <!-- Yandex.Metrika counter -->\n",
      "<script type=\"text/javascript\" >\n",
      "   (function(m,e,t,r,i,k,a){m[i]=m[i]||function(){(m[i].a=m[i].a||[]).push(arguments)};\n",
      "   m[i].l=1*new Date();\n",
      "   for (var j = 0; j < document.scripts.length; j++) {if (document.scripts[j].src === r) { return; }}\n",
      "   k=e.createElement(t),a=e.getElementsByTagName(t)[0],k.async=1,k.src=r,a.parentNode.insertBefore(k,a)})\n",
      "   (window, document, \"script\", \"https://mc.yandex.ru/metrika/tag.js\", \"ym\");\n",
      "\n",
      "   ym(96850838, \"init\", {\n",
      "        clickmap:true,\n",
      "        trackLinks:true,\n",
      "        accurateTrackBounce:true,\n",
      "        webvisor:true\n",
      "   });\n",
      "</script>\n",
      "<noscript><div><img src=\"https://mc.yandex.ru/watch/96850838\" style=\"position:absolute; left:-9999px;\" alt=\"\" /></div></noscript>\n",
      "<!-- /Yandex.Metrika counter -->\n",
      "\n",
      "    <meta property=\"og:type\" content=\"website\"/>\n",
      "    <meta property=\"og:site_name\" content=\"em-russia.ru\"/>\n",
      "    <meta property=\"og:title\" content=\"\"/>\n",
      "    <meta property=\"og:url\" content=\"htt\n"
     ]
    }
   ],
   "source": [
    "print(page_text[:1000])"
   ]
  },
  {
   "cell_type": "code",
   "execution_count": null,
   "metadata": {},
   "outputs": [],
   "source": []
  },
  {
   "cell_type": "code",
   "execution_count": 62,
   "metadata": {},
   "outputs": [
    {
     "name": "stdout",
     "output_type": "stream",
     "text": [
      "dowload page: 1\n",
      "dowload page: 2\n",
      "dowload page: 3\n"
     ]
    }
   ],
   "source": [
    "products = pd.DataFrame(columns=['title', 'url', 'price', 'text'])\n",
    "\n",
    "breakpoint = 0\n",
    "\n",
    "for page in (1,2,3):\n",
    "\n",
    "    print('dowload page:', page)\n",
    "    url = f'https://em-russia.ru/shop/all/?PAGEN_1={page}&SIZEN_1=16'\n",
    "\n",
    "    page_text = get_page_text(url, USER_AGENT)\n",
    "\n",
    "    soup = BeautifulSoup(page_text)\n",
    "    posts_list = soup.find_all('div', {'class': 'product__title'})   \n",
    "    for p in posts_list:\n",
    "        \n",
    "        lnk = p.find('a').attrs['href']\n",
    "        title = re.sub('[^А-ЯЁа-яё0-9\\s]', ' ', p.text)\n",
    "        title = re.sub('\\s\\s+', ' ', title)\n",
    "        \n",
    "        page_url = 'https://em-russia.ru' + lnk\n",
    "        clean_path = '/'.join([d for d in page_url.split('/')[2:] if len(d) > 0])\n",
    "        \n",
    "        page_text = get_page_text(page_url, USER_AGENT)\n",
    "        \n",
    "        if page_text is None:\n",
    "            continue\n",
    "        \n",
    "        text = title + '\\n'\n",
    "        product_page = BeautifulSoup(page_text)\n",
    "        main_div = product_page.find('div', {'id': 'main'})\n",
    "        \n",
    "        cd = main_div.find('div', {'class': 'container'}, recursive=False) \n",
    "        \n",
    "        desc = cd.find('div')\n",
    "        \n",
    "        if desc is not None:\n",
    "            text = text + desc.text.strip()       \n",
    "        else:\n",
    "            print(desc)\n",
    "\n",
    "        tabs = cd.find_all('div', {'class': 'product-nav-tabs__button'})\n",
    "        \n",
    "        if tabs is None:\n",
    "            continue\n",
    "        else:\n",
    "            tabs_content = cd.find_all('div', {'class': 'product-tab'})\n",
    "            for t, tc in zip(tabs, tabs_content):\n",
    "                text = text + '\\n' + t.text.strip() + '\\r' +tc.text.strip()\n",
    "        \n",
    "        \n",
    "        text = re.sub('[\\n\\r]+', '\\n', text)\n",
    "        text = re.sub('[\\t]+', ' ', text)\n",
    "        \n",
    "        price = main_div.find('span', {'id': 'item-price'})\n",
    "        price = re.sub('[^0-9]', '', price.text.strip())\n",
    "        \n",
    "        \n",
    "        products.loc[ len(products.index )] = [title, page_url, price, text]\n",
    "            \n",
    "        #breakpoint = breakpoint+1\n",
    "        #if breakpoint>5:\n",
    "        #    break \n",
    "            \n",
    "\n"
   ]
  },
  {
   "cell_type": "code",
   "execution_count": 63,
   "metadata": {},
   "outputs": [
    {
     "name": "stdout",
     "output_type": "stream",
     "text": [
      "ЭМ БИО концентрат 1 ВОСТОК ЭМ 1 \n",
      "Набор для самостоятельного активирования (приготовления) 3-х литров ЭМ-БИО («ЕМ·1 микробиологическое удобрение «Восток ЭМ-1») микробиологического удобрения для всех видов садовых и комнатных растений.\n",
      "  Концентрат ЭМ-БИО (ЕМ·1 микробиологическое удобрение «Восток ЭМ-1») представляет собой концентрированную культуру эффективных микроорганизмов, находящуюся в устойчивом неактивном состоянии и предназначенную для длительного хранения, визуально это – светло-коричневая жидкость с приятным кисломолочным запахом.\n",
      "  Срок годности: 12 месяцев с даты изготовления\n",
      "Состав\n",
      "В набор входит:\n",
      "концентрат ЭМ-БИО (ЕМ·1 микробиологическое удобрение «Восток ЭМ-1») в количестве  30 мл (3 ампулы по 10 мл)\n",
      "патока тростниковая 30 мл (3 ампулы по 10 мл) \n",
      "инструкция по разведению и применению. \n",
      "  СОСТАВ концентрата: вода питьевая, патока, комплекс молочнокислых бактерий, дрожжей и продуктов их жизнедеятельности. В 1 см3 содержится не менее 1*106 КОЕ молочнокислых бактерий и 1*104 КОЕ дрожжей.\n",
      "Применение\n",
      "Продукт применяется только после активации\n",
      "Как правильно активировать концентрат смотрите на вкладке \"Инструкция\"\n",
      " После активации применять согласно рекомендаций к продукту \"ЭМ-БИО\"\n",
      "Инструкция\n",
      "\n"
     ]
    }
   ],
   "source": [
    "print(products.iloc[2]['text'])"
   ]
  },
  {
   "cell_type": "code",
   "execution_count": 64,
   "metadata": {},
   "outputs": [],
   "source": [
    "products.to_csv('data/texts.csv', index=False)"
   ]
  },
  {
   "cell_type": "code",
   "execution_count": 65,
   "metadata": {},
   "outputs": [
    {
     "data": {
      "text/html": [
       "<div>\n",
       "<style scoped>\n",
       "    .dataframe tbody tr th:only-of-type {\n",
       "        vertical-align: middle;\n",
       "    }\n",
       "\n",
       "    .dataframe tbody tr th {\n",
       "        vertical-align: top;\n",
       "    }\n",
       "\n",
       "    .dataframe thead th {\n",
       "        text-align: right;\n",
       "    }\n",
       "</style>\n",
       "<table border=\"1\" class=\"dataframe\">\n",
       "  <thead>\n",
       "    <tr style=\"text-align: right;\">\n",
       "      <th></th>\n",
       "      <th>title</th>\n",
       "      <th>url</th>\n",
       "      <th>price</th>\n",
       "      <th>text</th>\n",
       "    </tr>\n",
       "  </thead>\n",
       "  <tbody>\n",
       "    <tr>\n",
       "      <th>count</th>\n",
       "      <td>45</td>\n",
       "      <td>45</td>\n",
       "      <td>45</td>\n",
       "      <td>45</td>\n",
       "    </tr>\n",
       "    <tr>\n",
       "      <th>unique</th>\n",
       "      <td>32</td>\n",
       "      <td>45</td>\n",
       "      <td>34</td>\n",
       "      <td>38</td>\n",
       "    </tr>\n",
       "    <tr>\n",
       "      <th>top</th>\n",
       "      <td>ЭМ БИО удобрение 1 Восток ЭМ 1</td>\n",
       "      <td>https://em-russia.ru/shop/all/vozrozhdennoe-bu...</td>\n",
       "      <td>5380</td>\n",
       "      <td>Средство для уборки ЭМ Спрей \\nУстраняет непри...</td>\n",
       "    </tr>\n",
       "    <tr>\n",
       "      <th>freq</th>\n",
       "      <td>5</td>\n",
       "      <td>1</td>\n",
       "      <td>3</td>\n",
       "      <td>4</td>\n",
       "    </tr>\n",
       "  </tbody>\n",
       "</table>\n",
       "</div>"
      ],
      "text/plain": [
       "                                  title  \\\n",
       "count                                45   \n",
       "unique                               32   \n",
       "top     ЭМ БИО удобрение 1 Восток ЭМ 1    \n",
       "freq                                  5   \n",
       "\n",
       "                                                      url price  \\\n",
       "count                                                  45    45   \n",
       "unique                                                 45    34   \n",
       "top     https://em-russia.ru/shop/all/vozrozhdennoe-bu...  5380   \n",
       "freq                                                    1     3   \n",
       "\n",
       "                                                     text  \n",
       "count                                                  45  \n",
       "unique                                                 38  \n",
       "top     Средство для уборки ЭМ Спрей \\nУстраняет непри...  \n",
       "freq                                                    4  "
      ]
     },
     "execution_count": 65,
     "metadata": {},
     "output_type": "execute_result"
    }
   ],
   "source": [
    "products.describe()"
   ]
  },
  {
   "cell_type": "markdown",
   "metadata": {},
   "source": [
    "## Парсинг страниц базы знаний"
   ]
  },
  {
   "cell_type": "code",
   "execution_count": 74,
   "metadata": {},
   "outputs": [],
   "source": [
    "from os import makedirs\n",
    "from os import walk\n",
    "import os"
   ]
  },
  {
   "cell_type": "code",
   "execution_count": 68,
   "metadata": {},
   "outputs": [],
   "source": [
    "for index in range(1, 5):\n",
    "    url = f'https://em-russia.ru/base/?PAGEN_1={index}&SIZEN_1=99'\n",
    "    page_text = get_page_text(url, USER_AGENT)\n",
    "    \n",
    "    soup = BeautifulSoup(page_text, 'html.parser')\n",
    "    links = soup.find_all('a', class_='article-preview__content')\n",
    "    urls = [link.get('href') for link in links]\n",
    "\n",
    "    for u in urls:\n",
    "        page_url = 'https://em-russia.ru' + u\n",
    "        clean_path = '/'.join([d for d in page_url.split('/')[2:] if len(d) > 0])\n",
    "        article_text = get_page_text(page_url, USER_AGENT)\n",
    "\n",
    "        dir_path = 'data/raw_pages/' + '/'.join(clean_path.split('/')[:-1])\n",
    "        makedirs(dir_path, exist_ok=True)\n",
    "        with open(dir_path + '/' + clean_path.split('/')[-1] + '.html', 'w', encoding='utf-8') as f:\n",
    "            f.write(article_text)"
   ]
  },
  {
   "cell_type": "code",
   "execution_count": 69,
   "metadata": {},
   "outputs": [],
   "source": [
    "pages_list = []\n",
    "\n",
    "for dirpath, dirnames, filenames in walk('data/raw_pages'):\n",
    "    if '.ipynb_checkpoints' in dirpath:\n",
    "        continue\n",
    "    \n",
    "    for fn in filenames:\n",
    "        if '.DS_Store' in fn:\n",
    "            continue \n",
    "            \n",
    "        fp = f'{dirpath}/{fn}'\n",
    "        pages_list.append(fp)"
   ]
  },
  {
   "cell_type": "code",
   "execution_count": 70,
   "metadata": {},
   "outputs": [
    {
     "data": {
      "text/plain": [
       "['data/raw_pages/em-russia.ru/base/krasnoyarskiy-kray-kartofel-bez-parshi-fitoftoroza-i-alternarioza-30-k-urozhaynosti.html',\n",
       " 'data/raw_pages/em-russia.ru/base/instruktsiya-kak-izgotovit-em-kolobki.html',\n",
       " 'data/raw_pages/em-russia.ru/base/ogorod-bez-khimii.html',\n",
       " 'data/raw_pages/em-russia.ru/base/kompleksnoe-primenenie-em-v-restorane-peru2.html',\n",
       " 'data/raw_pages/em-russia.ru/base/10-prichin-mulchirovat-pochvu-i-pro-em-ne-zabyt.html',\n",
       " 'data/raw_pages/em-russia.ru/base/instruktsiya-po-pererabotke-navoza-pomyeta-s-pomoshchyu-preparata-em-vita.html',\n",
       " 'data/raw_pages/em-russia.ru/base/byt-ekologiya-septik-biotualety-instruktsiya.html',\n",
       " 'data/raw_pages/em-russia.ru/base/ustranenie-zapakha-pochvogrunta-i-obezvozhennogo-osadka-na-kanalizatsionnykh-ochistnykh-sooruzheniya.html',\n",
       " 'data/raw_pages/em-russia.ru/base/akvarium-ustali-myt.html',\n",
       " 'data/raw_pages/em-russia.ru/base/demonstratsionnyy-opyt-effektivnosti-preparata-em-bio-vostok-em-1-v-samarskoy-oblasti.html']"
      ]
     },
     "execution_count": 70,
     "metadata": {},
     "output_type": "execute_result"
    }
   ],
   "source": [
    "pages_list[:10]"
   ]
  },
  {
   "cell_type": "code",
   "execution_count": 71,
   "metadata": {},
   "outputs": [],
   "source": [
    "def clean(text):\n",
    "    text = re.sub('\\<[^\\<\\>]+\\>', ' ', text)\n",
    "    text = re.sub('&nbsp;', ' ', text)\n",
    "    text = re.sub('\\xa0', ' ', text)\n",
    "    text = re.sub('\\s\\s+', ' ', text)\n",
    "    text = re.sub('^[\\+\\-] ', '', text)\n",
    "    text = diff = re.sub(r'http[s]?://\\S+', '', text)\n",
    "    text = re.sub(r'[\\U0001F600-\\U0001F64F\\U0001F300-\\U0001F5FF\\U0001F680-\\U0001F6FF\\U0001F700-\\U0001F77F\\U0001F780-\\U0001F7FF\\U0001F800-\\U0001F8FF\\U0001F900-\\U0001F9FF\\U0001FA00-\\U0001FA6F\\U0001FA70-\\U0001FAFF]', ' ', text)\n",
    "    text = re.sub(r'[^\\x00-\\x7F\\u0400-\\u04FF]+', ' ', text)\n",
    "    return text"
   ]
  },
  {
   "cell_type": "code",
   "execution_count": 77,
   "metadata": {},
   "outputs": [],
   "source": [
    "def extract_text_from_html(file_path):\n",
    "    with open(file_path, 'r', encoding='utf-8', errors='ignore') as file:\n",
    "        soup = BeautifulSoup(file, 'html.parser')\n",
    "        title_tag = soup.title\n",
    "        title = clean(title_tag.get_text(strip=True)) if title_tag else \"\"\n",
    "\n",
    "        news_detail_div = soup.find('div', class_='news-detail')\n",
    "        text = clean(news_detail_div.get_text(strip=True)) if news_detail_div else \"\"\n",
    "        return f\"{title} {text}\""
   ]
  },
  {
   "cell_type": "code",
   "execution_count": 80,
   "metadata": {},
   "outputs": [],
   "source": [
    "text_dir = 'data/page_texts'\n",
    "\n",
    "for file_path in pages_list:\n",
    "    text = extract_text_from_html(file_path)\n",
    "    \n",
    "    filename = os.path.basename(file_path)\n",
    "    text_filename = os.path.splitext(filename)[0] + '.txt'\n",
    "    text_file_path = os.path.join(text_dir, text_filename)\n",
    "    \n",
    "    with open(text_file_path, 'w', encoding='utf-8') as text_file:\n",
    "        text_file.write(text)"
   ]
  }
 ],
 "metadata": {
  "kernelspec": {
   "display_name": ".venv",
   "language": "python",
   "name": "python3"
  },
  "language_info": {
   "codemirror_mode": {
    "name": "ipython",
    "version": 3
   },
   "file_extension": ".py",
   "mimetype": "text/x-python",
   "name": "python",
   "nbconvert_exporter": "python",
   "pygments_lexer": "ipython3",
   "version": "3.11.6"
  }
 },
 "nbformat": 4,
 "nbformat_minor": 2
}
