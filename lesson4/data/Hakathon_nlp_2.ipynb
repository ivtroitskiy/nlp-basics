{
 "cells": [
  {
   "cell_type": "code",
   "execution_count": 1,
   "id": "a85601d2",
   "metadata": {},
   "outputs": [],
   "source": [
    "# Обработка отзывов о мобильных телефонах"
   ]
  },
  {
   "cell_type": "code",
   "execution_count": 2,
   "id": "b0d953f5",
   "metadata": {},
   "outputs": [],
   "source": [
    "## Установка библиотек"
   ]
  },
  {
   "cell_type": "code",
   "execution_count": 3,
   "id": "49d9dff4",
   "metadata": {},
   "outputs": [
    {
     "name": "stderr",
     "output_type": "stream",
     "text": [
      "[nltk_data] Downloading package punkt to\n",
      "[nltk_data]     C:\\Users\\term\\AppData\\Roaming\\nltk_data...\n",
      "[nltk_data]   Package punkt is already up-to-date!\n",
      "[nltk_data] Downloading package stopwords to\n",
      "[nltk_data]     C:\\Users\\term\\AppData\\Roaming\\nltk_data...\n",
      "[nltk_data]   Package stopwords is already up-to-date!\n"
     ]
    }
   ],
   "source": [
    "import pandas as pd\n",
    "import numpy as np\n",
    "from sklearn.metrics import *\n",
    "from sklearn.model_selection import train_test_split\n",
    "from sklearn.dummy import DummyClassifier\n",
    "from catboost import CatBoostRegressor, CatBoostClassifier, Pool\n",
    "from catboost import EFstrType\n",
    "from sklearn.pipeline import Pipeline\n",
    "import optuna\n",
    "from sklearn.ensemble import RandomForestRegressor\n",
    "from sklearn.compose import make_column_transformer\n",
    "from sklearn.metrics import mean_squared_error, mean_absolute_error, r2_score, root_mean_squared_error\n",
    "from math import sqrt\n",
    "from sklearn.model_selection import cross_val_predict, cross_val_score, train_test_split\n",
    "from sklearn.pipeline import make_pipeline\n",
    "from sklearn.preprocessing import OneHotEncoder\n",
    "import warnings\n",
    "import matplotlib.pyplot as plt\n",
    "from sklearn.feature_extraction.text import CountVectorizer\n",
    "from nltk import ngrams\n",
    "from sklearn.feature_extraction.text import TfidfVectorizer\n",
    "from sklearn.decomposition import PCA\n",
    "import nltk\n",
    "nltk.download('punkt')\n",
    "from nltk import tokenize\n",
    "from nltk.tokenize import word_tokenize\n",
    "nltk.download('stopwords')\n",
    "from nltk.corpus import stopwords\n",
    "from pymystem3 import Mystem\n",
    "mystem_analyzer = Mystem()\n",
    "import re\n"
   ]
  },
  {
   "cell_type": "code",
   "execution_count": 4,
   "id": "1680bef9",
   "metadata": {},
   "outputs": [],
   "source": [
    "from string import punctuation\n",
    "from collections import Counter\n",
    "from tqdm import tqdm\n",
    "from pymorphy3 import MorphAnalyzer\n",
    "\n",
    "from transformers import AutoModelForSeq2SeqLM, T5TokenizerFast"
   ]
  },
  {
   "cell_type": "markdown",
   "id": "59a20f6d",
   "metadata": {},
   "source": [
    "## Константы"
   ]
  },
  {
   "cell_type": "code",
   "execution_count": 5,
   "id": "4e22a108",
   "metadata": {},
   "outputs": [],
   "source": [
    "LOCAL_PATH = 'D:/_DS/Edu/NLP_1_flow/data/'\n",
    "RANDOM_STATE = RS = 654321\n",
    "TEST_SIZE = .25\n",
    "# выделение в тексте\n",
    "BOLD = \"\\033[1m\"\n",
    "ITALIC = \"\\033[3m\"\n",
    "END = \"\\033[0m\"\n",
    "CR = '\\n'"
   ]
  },
  {
   "cell_type": "markdown",
   "id": "d51afcf7",
   "metadata": {},
   "source": [
    "## Вспомогательные функции"
   ]
  },
  {
   "cell_type": "code",
   "execution_count": 6,
   "id": "171eedf3",
   "metadata": {},
   "outputs": [],
   "source": [
    "# Функция, выводящая основную информацию о датафрейме\n",
    "def about_df(data, size=5):\n",
    "    print (BOLD + 'Изучим исходные данные' + END)\n",
    "    print(data.info())\n",
    "    print(BOLD + CR + f'Вывод первых {size} строк датафрейма:' + END)\n",
    "    display(data.head(size))\n",
    "    print(BOLD + CR + 'Вывод основной информации о датафрейме:' + END)\n",
    "    print(CR + 'Количество строк: ', data.shape[0])\n",
    "    print('Количество столбцов: ', data.shape[1])\n",
    "    categ_col = data.columns[data.dtypes == 'object']\n",
    "    num_col = data.columns[data.dtypes != 'object']\n",
    "    print('Количество категориальных признаков: ', len(categ_col))\n",
    "    print('Количество числовых признаков: ', len(num_col))\n",
    "    missed_cells = data.isna().sum().sum()/(data.shape[0]*(data.shape[1]-1))\n",
    "    missed_rows = sum(data.isna().sum(axis = 1)>0)/data.shape[0]\n",
    "    print (BOLD + CR + 'Проверка пропусков'+ END)\n",
    "    print ('Количество пропусков: {:.0f}'.format(data.isnull().sum().sum()))\n",
    "    print ('Доля пропусков: {:.1%}'.format(missed_cells)+ END)\n",
    "    print ('Доля строк содержащих пропуски: {:.1%}'.format(missed_rows))\n",
    "    print(BOLD +  CR + 'Описание количественных данных:'+ END)\n",
    "    display(pd.concat([pd.DataFrame(np.array([data[num_col].isna().sum(), data[num_col].isna().mean()*100]).T,\n",
    "                                columns=['кол-во пропусков', 'доля пропусков, %'], index=data[num_col].columns), data.describe().T], axis=1))\n",
    "    print(BOLD + CR + 'Описание категориальных данных:'+ '\\033[0m')\n",
    "    display(pd.concat([pd.DataFrame(np.array([data[categ_col].isna().sum(), data[categ_col].isna().mean()*100]).T,\n",
    "                                columns=['кол-во пропусков', 'доля пропусков, %'], index=data[categ_col].columns), data.describe(include='object').T], axis=1))\n",
    "    ## Проверим дубликаты\n",
    "    print (BOLD +  CR + 'Проверка на дубликаты'+ END)\n",
    "    print('Количество полных дубликатов: ', data.duplicated().sum())\n",
    "        "
   ]
  },
  {
   "cell_type": "markdown",
   "id": "891818ee",
   "metadata": {},
   "source": []
  },
  {
   "cell_type": "code",
   "execution_count": 7,
   "id": "8773c587",
   "metadata": {},
   "outputs": [],
   "source": [
    "with open(LOCAL_PATH + 'jigsaw-toxic-comment-train-google-ru.csv', 'r', encoding='utf-8')as f:\n",
    "    comments_text = f.read()"
   ]
  },
  {
   "cell_type": "code",
   "execution_count": 8,
   "id": "709ffe26",
   "metadata": {},
   "outputs": [
    {
     "data": {
      "text/plain": [
       "',id,comment_text,toxic,severe_toxic,obscene,threat,insult,identity_hate\\n0,000103f0d9cfb60f,\"D\\'Оо! Он соответствует этому цвету фона, с которым я, похоже, застрял. Спасибо. (разговор) 21:51, 11 января 2016 г. (UTC)\",0,0,0,0,0,0\\n1,00025465d4725e87,\"\"\"\\n\\nПоздравляю и меня, хорошо использую инструменты. · разговаривать \"\"\",0,0,0,0,0,0\\n2,0009801bd85e5806,\"Смысл Mitsurugi не имеет смысла - почему бы не поспорить, чтобы включить хинди на страницу Рио Саказаки, чтобы включить больше информации?\",0,0,0,0,0,0\\n3,00070ef96486d6f9,\"О, и девушка выше начала свои споры со мной. Она сунула нос туда, где он не принадлежит. Я считаю, что спор был между мной и Ивесниммо. Но, как я уже сказал, ситуация была урегулирована, и я извинился. Спасибо,\",0,0,0,0,0,0\\n4,0007e25b2121310b,\"До свидания!\\nНе смотри, приходи или думай о возвращении! Tosser.\",1,0,0,0,0,0\\n5,001735f961a23fc4,\"\"\"\\n\\xa0Конечно, но ведущая должна кратко подвести итог истории Армении. Я просто добавил то, что счел необходимым. Если кто-то считает, что то или иное предложение является лишним для лидера, он может удалить внесенные изменения. разговаривать  \"\"\",0,0,0,0,0,0\\n6,0001d958c54c6e35,\"Вы, сэр, мой герой. Есть ли шанс, что вы помните, на какой странице?\",0,1,1,0,1,0\\n7,000113f07ec002fd,\"Эй, чувак, я действительно не пытаюсь редактировать войну. Просто этот парень постоянно удаляет релевантную информацию и обсуждает со мной изменения, а не мою страницу обсуждения. Кажется, он больше заботится о форматировании, чем о реальной информации.\"'"
      ]
     },
     "execution_count": 8,
     "metadata": {},
     "output_type": "execute_result"
    }
   ],
   "source": [
    "comments_text[:1500]"
   ]
  },
  {
   "cell_type": "code",
   "execution_count": 9,
   "id": "8250f091",
   "metadata": {},
   "outputs": [],
   "source": [
    "data = pd.read_csv(LOCAL_PATH + 'jigsaw-toxic-comment-train-google-ru.csv', sep=',')"
   ]
  },
  {
   "cell_type": "code",
   "execution_count": 10,
   "id": "fbd8c098",
   "metadata": {},
   "outputs": [
    {
     "data": {
      "text/html": [
       "<div>\n",
       "<style scoped>\n",
       "    .dataframe tbody tr th:only-of-type {\n",
       "        vertical-align: middle;\n",
       "    }\n",
       "\n",
       "    .dataframe tbody tr th {\n",
       "        vertical-align: top;\n",
       "    }\n",
       "\n",
       "    .dataframe thead th {\n",
       "        text-align: right;\n",
       "    }\n",
       "</style>\n",
       "<table border=\"1\" class=\"dataframe\">\n",
       "  <thead>\n",
       "    <tr style=\"text-align: right;\">\n",
       "      <th></th>\n",
       "      <th>Unnamed: 0</th>\n",
       "      <th>id</th>\n",
       "      <th>comment_text</th>\n",
       "      <th>toxic</th>\n",
       "      <th>severe_toxic</th>\n",
       "      <th>obscene</th>\n",
       "      <th>threat</th>\n",
       "      <th>insult</th>\n",
       "      <th>identity_hate</th>\n",
       "    </tr>\n",
       "  </thead>\n",
       "  <tbody>\n",
       "    <tr>\n",
       "      <th>0</th>\n",
       "      <td>0</td>\n",
       "      <td>000103f0d9cfb60f</td>\n",
       "      <td>D'Оо! Он соответствует этому цвету фона, с кот...</td>\n",
       "      <td>0</td>\n",
       "      <td>0</td>\n",
       "      <td>0</td>\n",
       "      <td>0</td>\n",
       "      <td>0</td>\n",
       "      <td>0</td>\n",
       "    </tr>\n",
       "    <tr>\n",
       "      <th>1</th>\n",
       "      <td>1</td>\n",
       "      <td>00025465d4725e87</td>\n",
       "      <td>\"\\n\\nПоздравляю и меня, хорошо использую инстр...</td>\n",
       "      <td>0</td>\n",
       "      <td>0</td>\n",
       "      <td>0</td>\n",
       "      <td>0</td>\n",
       "      <td>0</td>\n",
       "      <td>0</td>\n",
       "    </tr>\n",
       "    <tr>\n",
       "      <th>2</th>\n",
       "      <td>2</td>\n",
       "      <td>0009801bd85e5806</td>\n",
       "      <td>Смысл Mitsurugi не имеет смысла - почему бы не...</td>\n",
       "      <td>0</td>\n",
       "      <td>0</td>\n",
       "      <td>0</td>\n",
       "      <td>0</td>\n",
       "      <td>0</td>\n",
       "      <td>0</td>\n",
       "    </tr>\n",
       "    <tr>\n",
       "      <th>3</th>\n",
       "      <td>3</td>\n",
       "      <td>00070ef96486d6f9</td>\n",
       "      <td>О, и девушка выше начала свои споры со мной. О...</td>\n",
       "      <td>0</td>\n",
       "      <td>0</td>\n",
       "      <td>0</td>\n",
       "      <td>0</td>\n",
       "      <td>0</td>\n",
       "      <td>0</td>\n",
       "    </tr>\n",
       "    <tr>\n",
       "      <th>4</th>\n",
       "      <td>4</td>\n",
       "      <td>0007e25b2121310b</td>\n",
       "      <td>До свидания!\\nНе смотри, приходи или думай о в...</td>\n",
       "      <td>1</td>\n",
       "      <td>0</td>\n",
       "      <td>0</td>\n",
       "      <td>0</td>\n",
       "      <td>0</td>\n",
       "      <td>0</td>\n",
       "    </tr>\n",
       "  </tbody>\n",
       "</table>\n",
       "</div>"
      ],
      "text/plain": [
       "   Unnamed: 0                id  \\\n",
       "0           0  000103f0d9cfb60f   \n",
       "1           1  00025465d4725e87   \n",
       "2           2  0009801bd85e5806   \n",
       "3           3  00070ef96486d6f9   \n",
       "4           4  0007e25b2121310b   \n",
       "\n",
       "                                        comment_text toxic  severe_toxic  \\\n",
       "0  D'Оо! Он соответствует этому цвету фона, с кот...     0             0   \n",
       "1  \"\\n\\nПоздравляю и меня, хорошо использую инстр...     0             0   \n",
       "2  Смысл Mitsurugi не имеет смысла - почему бы не...     0             0   \n",
       "3  О, и девушка выше начала свои споры со мной. О...     0             0   \n",
       "4  До свидания!\\nНе смотри, приходи или думай о в...     1             0   \n",
       "\n",
       "   obscene  threat  insult  identity_hate  \n",
       "0        0       0       0              0  \n",
       "1        0       0       0              0  \n",
       "2        0       0       0              0  \n",
       "3        0       0       0              0  \n",
       "4        0       0       0              0  "
      ]
     },
     "execution_count": 10,
     "metadata": {},
     "output_type": "execute_result"
    }
   ],
   "source": [
    "data.head()"
   ]
  },
  {
   "cell_type": "code",
   "execution_count": 11,
   "id": "8036545f",
   "metadata": {},
   "outputs": [
    {
     "name": "stdout",
     "output_type": "stream",
     "text": [
      "\u001b[1mИзучим исходные данные\u001b[0m\n",
      "<class 'pandas.core.frame.DataFrame'>\n",
      "RangeIndex: 223549 entries, 0 to 223548\n",
      "Data columns (total 9 columns):\n",
      " #   Column         Non-Null Count   Dtype \n",
      "---  ------         --------------   ----- \n",
      " 0   Unnamed: 0     223549 non-null  int64 \n",
      " 1   id             223549 non-null  object\n",
      " 2   comment_text   223147 non-null  object\n",
      " 3   toxic          223549 non-null  object\n",
      " 4   severe_toxic   223549 non-null  int64 \n",
      " 5   obscene        223549 non-null  int64 \n",
      " 6   threat         223549 non-null  int64 \n",
      " 7   insult         223549 non-null  int64 \n",
      " 8   identity_hate  223549 non-null  int64 \n",
      "dtypes: int64(6), object(3)\n",
      "memory usage: 15.4+ MB\n",
      "None\n",
      "\u001b[1m\n",
      "Вывод первых 5 строк датафрейма:\u001b[0m\n"
     ]
    },
    {
     "data": {
      "text/html": [
       "<div>\n",
       "<style scoped>\n",
       "    .dataframe tbody tr th:only-of-type {\n",
       "        vertical-align: middle;\n",
       "    }\n",
       "\n",
       "    .dataframe tbody tr th {\n",
       "        vertical-align: top;\n",
       "    }\n",
       "\n",
       "    .dataframe thead th {\n",
       "        text-align: right;\n",
       "    }\n",
       "</style>\n",
       "<table border=\"1\" class=\"dataframe\">\n",
       "  <thead>\n",
       "    <tr style=\"text-align: right;\">\n",
       "      <th></th>\n",
       "      <th>Unnamed: 0</th>\n",
       "      <th>id</th>\n",
       "      <th>comment_text</th>\n",
       "      <th>toxic</th>\n",
       "      <th>severe_toxic</th>\n",
       "      <th>obscene</th>\n",
       "      <th>threat</th>\n",
       "      <th>insult</th>\n",
       "      <th>identity_hate</th>\n",
       "    </tr>\n",
       "  </thead>\n",
       "  <tbody>\n",
       "    <tr>\n",
       "      <th>0</th>\n",
       "      <td>0</td>\n",
       "      <td>000103f0d9cfb60f</td>\n",
       "      <td>D'Оо! Он соответствует этому цвету фона, с кот...</td>\n",
       "      <td>0</td>\n",
       "      <td>0</td>\n",
       "      <td>0</td>\n",
       "      <td>0</td>\n",
       "      <td>0</td>\n",
       "      <td>0</td>\n",
       "    </tr>\n",
       "    <tr>\n",
       "      <th>1</th>\n",
       "      <td>1</td>\n",
       "      <td>00025465d4725e87</td>\n",
       "      <td>\"\\n\\nПоздравляю и меня, хорошо использую инстр...</td>\n",
       "      <td>0</td>\n",
       "      <td>0</td>\n",
       "      <td>0</td>\n",
       "      <td>0</td>\n",
       "      <td>0</td>\n",
       "      <td>0</td>\n",
       "    </tr>\n",
       "    <tr>\n",
       "      <th>2</th>\n",
       "      <td>2</td>\n",
       "      <td>0009801bd85e5806</td>\n",
       "      <td>Смысл Mitsurugi не имеет смысла - почему бы не...</td>\n",
       "      <td>0</td>\n",
       "      <td>0</td>\n",
       "      <td>0</td>\n",
       "      <td>0</td>\n",
       "      <td>0</td>\n",
       "      <td>0</td>\n",
       "    </tr>\n",
       "    <tr>\n",
       "      <th>3</th>\n",
       "      <td>3</td>\n",
       "      <td>00070ef96486d6f9</td>\n",
       "      <td>О, и девушка выше начала свои споры со мной. О...</td>\n",
       "      <td>0</td>\n",
       "      <td>0</td>\n",
       "      <td>0</td>\n",
       "      <td>0</td>\n",
       "      <td>0</td>\n",
       "      <td>0</td>\n",
       "    </tr>\n",
       "    <tr>\n",
       "      <th>4</th>\n",
       "      <td>4</td>\n",
       "      <td>0007e25b2121310b</td>\n",
       "      <td>До свидания!\\nНе смотри, приходи или думай о в...</td>\n",
       "      <td>1</td>\n",
       "      <td>0</td>\n",
       "      <td>0</td>\n",
       "      <td>0</td>\n",
       "      <td>0</td>\n",
       "      <td>0</td>\n",
       "    </tr>\n",
       "  </tbody>\n",
       "</table>\n",
       "</div>"
      ],
      "text/plain": [
       "   Unnamed: 0                id  \\\n",
       "0           0  000103f0d9cfb60f   \n",
       "1           1  00025465d4725e87   \n",
       "2           2  0009801bd85e5806   \n",
       "3           3  00070ef96486d6f9   \n",
       "4           4  0007e25b2121310b   \n",
       "\n",
       "                                        comment_text toxic  severe_toxic  \\\n",
       "0  D'Оо! Он соответствует этому цвету фона, с кот...     0             0   \n",
       "1  \"\\n\\nПоздравляю и меня, хорошо использую инстр...     0             0   \n",
       "2  Смысл Mitsurugi не имеет смысла - почему бы не...     0             0   \n",
       "3  О, и девушка выше начала свои споры со мной. О...     0             0   \n",
       "4  До свидания!\\nНе смотри, приходи или думай о в...     1             0   \n",
       "\n",
       "   obscene  threat  insult  identity_hate  \n",
       "0        0       0       0              0  \n",
       "1        0       0       0              0  \n",
       "2        0       0       0              0  \n",
       "3        0       0       0              0  \n",
       "4        0       0       0              0  "
      ]
     },
     "metadata": {},
     "output_type": "display_data"
    },
    {
     "name": "stdout",
     "output_type": "stream",
     "text": [
      "\u001b[1m\n",
      "Вывод основной информации о датафрейме:\u001b[0m\n",
      "\n",
      "Количество строк:  223549\n",
      "Количество столбцов:  9\n",
      "Количество категориальных признаков:  3\n",
      "Количество числовых признаков:  6\n",
      "\u001b[1m\n",
      "Проверка пропусков\u001b[0m\n",
      "Количество пропусков: 402\n",
      "Доля пропусков: 0.0%\u001b[0m\n",
      "Доля строк содержащих пропуски: 0.2%\n",
      "\u001b[1m\n",
      "Описание количественных данных:\u001b[0m\n"
     ]
    },
    {
     "data": {
      "text/html": [
       "<div>\n",
       "<style scoped>\n",
       "    .dataframe tbody tr th:only-of-type {\n",
       "        vertical-align: middle;\n",
       "    }\n",
       "\n",
       "    .dataframe tbody tr th {\n",
       "        vertical-align: top;\n",
       "    }\n",
       "\n",
       "    .dataframe thead th {\n",
       "        text-align: right;\n",
       "    }\n",
       "</style>\n",
       "<table border=\"1\" class=\"dataframe\">\n",
       "  <thead>\n",
       "    <tr style=\"text-align: right;\">\n",
       "      <th></th>\n",
       "      <th>кол-во пропусков</th>\n",
       "      <th>доля пропусков, %</th>\n",
       "      <th>count</th>\n",
       "      <th>mean</th>\n",
       "      <th>std</th>\n",
       "      <th>min</th>\n",
       "      <th>25%</th>\n",
       "      <th>50%</th>\n",
       "      <th>75%</th>\n",
       "      <th>max</th>\n",
       "    </tr>\n",
       "  </thead>\n",
       "  <tbody>\n",
       "    <tr>\n",
       "      <th>Unnamed: 0</th>\n",
       "      <td>0.0</td>\n",
       "      <td>0.0</td>\n",
       "      <td>223549.0</td>\n",
       "      <td>111774.000000</td>\n",
       "      <td>64533.182001</td>\n",
       "      <td>0.0</td>\n",
       "      <td>55887.0</td>\n",
       "      <td>111774.0</td>\n",
       "      <td>167661.0</td>\n",
       "      <td>223548.0</td>\n",
       "    </tr>\n",
       "    <tr>\n",
       "      <th>severe_toxic</th>\n",
       "      <td>0.0</td>\n",
       "      <td>0.0</td>\n",
       "      <td>223549.0</td>\n",
       "      <td>0.008777</td>\n",
       "      <td>0.093272</td>\n",
       "      <td>0.0</td>\n",
       "      <td>0.0</td>\n",
       "      <td>0.0</td>\n",
       "      <td>0.0</td>\n",
       "      <td>1.0</td>\n",
       "    </tr>\n",
       "    <tr>\n",
       "      <th>obscene</th>\n",
       "      <td>0.0</td>\n",
       "      <td>0.0</td>\n",
       "      <td>223549.0</td>\n",
       "      <td>0.054306</td>\n",
       "      <td>0.226621</td>\n",
       "      <td>0.0</td>\n",
       "      <td>0.0</td>\n",
       "      <td>0.0</td>\n",
       "      <td>0.0</td>\n",
       "      <td>1.0</td>\n",
       "    </tr>\n",
       "    <tr>\n",
       "      <th>threat</th>\n",
       "      <td>0.0</td>\n",
       "      <td>0.0</td>\n",
       "      <td>223549.0</td>\n",
       "      <td>0.003082</td>\n",
       "      <td>0.055431</td>\n",
       "      <td>0.0</td>\n",
       "      <td>0.0</td>\n",
       "      <td>0.0</td>\n",
       "      <td>0.0</td>\n",
       "      <td>1.0</td>\n",
       "    </tr>\n",
       "    <tr>\n",
       "      <th>insult</th>\n",
       "      <td>0.0</td>\n",
       "      <td>0.0</td>\n",
       "      <td>223549.0</td>\n",
       "      <td>0.050566</td>\n",
       "      <td>0.219110</td>\n",
       "      <td>0.0</td>\n",
       "      <td>0.0</td>\n",
       "      <td>0.0</td>\n",
       "      <td>0.0</td>\n",
       "      <td>1.0</td>\n",
       "    </tr>\n",
       "    <tr>\n",
       "      <th>identity_hate</th>\n",
       "      <td>0.0</td>\n",
       "      <td>0.0</td>\n",
       "      <td>223549.0</td>\n",
       "      <td>0.009470</td>\n",
       "      <td>0.096852</td>\n",
       "      <td>0.0</td>\n",
       "      <td>0.0</td>\n",
       "      <td>0.0</td>\n",
       "      <td>0.0</td>\n",
       "      <td>1.0</td>\n",
       "    </tr>\n",
       "  </tbody>\n",
       "</table>\n",
       "</div>"
      ],
      "text/plain": [
       "               кол-во пропусков  доля пропусков, %     count           mean  \\\n",
       "Unnamed: 0                  0.0                0.0  223549.0  111774.000000   \n",
       "severe_toxic                0.0                0.0  223549.0       0.008777   \n",
       "obscene                     0.0                0.0  223549.0       0.054306   \n",
       "threat                      0.0                0.0  223549.0       0.003082   \n",
       "insult                      0.0                0.0  223549.0       0.050566   \n",
       "identity_hate               0.0                0.0  223549.0       0.009470   \n",
       "\n",
       "                        std  min      25%       50%       75%       max  \n",
       "Unnamed: 0     64533.182001  0.0  55887.0  111774.0  167661.0  223548.0  \n",
       "severe_toxic       0.093272  0.0      0.0       0.0       0.0       1.0  \n",
       "obscene            0.226621  0.0      0.0       0.0       0.0       1.0  \n",
       "threat             0.055431  0.0      0.0       0.0       0.0       1.0  \n",
       "insult             0.219110  0.0      0.0       0.0       0.0       1.0  \n",
       "identity_hate      0.096852  0.0      0.0       0.0       0.0       1.0  "
      ]
     },
     "metadata": {},
     "output_type": "display_data"
    },
    {
     "name": "stdout",
     "output_type": "stream",
     "text": [
      "\u001b[1m\n",
      "Описание категориальных данных:\u001b[0m\n"
     ]
    },
    {
     "data": {
      "text/html": [
       "<div>\n",
       "<style scoped>\n",
       "    .dataframe tbody tr th:only-of-type {\n",
       "        vertical-align: middle;\n",
       "    }\n",
       "\n",
       "    .dataframe tbody tr th {\n",
       "        vertical-align: top;\n",
       "    }\n",
       "\n",
       "    .dataframe thead th {\n",
       "        text-align: right;\n",
       "    }\n",
       "</style>\n",
       "<table border=\"1\" class=\"dataframe\">\n",
       "  <thead>\n",
       "    <tr style=\"text-align: right;\">\n",
       "      <th></th>\n",
       "      <th>кол-во пропусков</th>\n",
       "      <th>доля пропусков, %</th>\n",
       "      <th>count</th>\n",
       "      <th>unique</th>\n",
       "      <th>top</th>\n",
       "      <th>freq</th>\n",
       "    </tr>\n",
       "  </thead>\n",
       "  <tbody>\n",
       "    <tr>\n",
       "      <th>id</th>\n",
       "      <td>0.0</td>\n",
       "      <td>0.000000</td>\n",
       "      <td>223549</td>\n",
       "      <td>223549</td>\n",
       "      <td>000103f0d9cfb60f</td>\n",
       "      <td>1</td>\n",
       "    </tr>\n",
       "    <tr>\n",
       "      <th>comment_text</th>\n",
       "      <td>402.0</td>\n",
       "      <td>0.179826</td>\n",
       "      <td>223147</td>\n",
       "      <td>222917</td>\n",
       "      <td>ПЕРЕСМОТРЕННАЯ ИНФОРМАЦИЯ</td>\n",
       "      <td>10</td>\n",
       "    </tr>\n",
       "    <tr>\n",
       "      <th>toxic</th>\n",
       "      <td>0.0</td>\n",
       "      <td>0.000000</td>\n",
       "      <td>223549</td>\n",
       "      <td>3</td>\n",
       "      <td>0</td>\n",
       "      <td>201785</td>\n",
       "    </tr>\n",
       "  </tbody>\n",
       "</table>\n",
       "</div>"
      ],
      "text/plain": [
       "              кол-во пропусков  доля пропусков, %   count  unique  \\\n",
       "id                         0.0           0.000000  223549  223549   \n",
       "comment_text             402.0           0.179826  223147  222917   \n",
       "toxic                      0.0           0.000000  223549       3   \n",
       "\n",
       "                                    top    freq  \n",
       "id                     000103f0d9cfb60f       1  \n",
       "comment_text  ПЕРЕСМОТРЕННАЯ ИНФОРМАЦИЯ      10  \n",
       "toxic                                 0  201785  "
      ]
     },
     "metadata": {},
     "output_type": "display_data"
    },
    {
     "name": "stdout",
     "output_type": "stream",
     "text": [
      "\u001b[1m\n",
      "Проверка на дубликаты\u001b[0m\n",
      "Количество полных дубликатов:  0\n"
     ]
    }
   ],
   "source": [
    "about_df(data)"
   ]
  },
  {
   "cell_type": "code",
   "execution_count": 12,
   "id": "d4862e0c",
   "metadata": {},
   "outputs": [
    {
     "data": {
      "image/png": "[encoded data removed]",
      "text/plain": [
       "<Figure size 1200x1500 with 10 Axes>"
      ]
     },
     "metadata": {},
     "output_type": "display_data"
    }
   ],
   "source": [
    "data.plot(\n",
    "    lw=0, marker=\".\", subplots=True, layout=(-1, 5), figsize=(12, 15), markersize=1\n",
    ");"
   ]
  },
  {
   "cell_type": "code",
   "execution_count": null,
   "id": "082fd2b9",
   "metadata": {},
   "outputs": [],
   "source": []
  },
  {
   "cell_type": "code",
   "execution_count": 13,
   "id": "e9c9750d",
   "metadata": {},
   "outputs": [
    {
     "data": {
      "image/png": "[encoded data removed]",
      "text/plain": [
       "<Figure size 640x480 with 1 Axes>"
      ]
     },
     "metadata": {},
     "output_type": "display_data"
    }
   ],
   "source": [
    "pd.Series(data['toxic']).hist( bins = 5)\n",
    "plt.title('Распределение таргета токсичности коммента в комментариях')\n",
    "plt.show()"
   ]
  },
  {
   "cell_type": "markdown",
   "id": "a084c302",
   "metadata": {},
   "source": [
    "Дисбаланс классов. Поработаем над весами позже"
   ]
  },
  {
   "cell_type": "code",
   "execution_count": 51,
   "id": "9a243ea7",
   "metadata": {},
   "outputs": [
    {
     "name": "stdout",
     "output_type": "stream",
     "text": [
      "<class 'pandas.core.frame.DataFrame'>\n",
      "RangeIndex: 223549 entries, 0 to 223548\n",
      "Data columns (total 9 columns):\n",
      " #   Column         Non-Null Count   Dtype \n",
      "---  ------         --------------   ----- \n",
      " 0   Unnamed: 0     223549 non-null  int64 \n",
      " 1   id             223549 non-null  object\n",
      " 2   comment_text   223147 non-null  object\n",
      " 3   toxic          223549 non-null  object\n",
      " 4   severe_toxic   223549 non-null  int64 \n",
      " 5   obscene        223549 non-null  int64 \n",
      " 6   threat         223549 non-null  int64 \n",
      " 7   insult         223549 non-null  int64 \n",
      " 8   identity_hate  223549 non-null  int64 \n",
      "dtypes: int64(6), object(3)\n",
      "memory usage: 15.4+ MB\n"
     ]
    }
   ],
   "source": [
    "data.info()"
   ]
  },
  {
   "cell_type": "code",
   "execution_count": 53,
   "id": "9ba1ef9c",
   "metadata": {},
   "outputs": [],
   "source": [
    "data = data.dropna(subset = 'comment_text')"
   ]
  },
  {
   "cell_type": "code",
   "execution_count": 54,
   "id": "53fd8e7f",
   "metadata": {
    "scrolled": true
   },
   "outputs": [
    {
     "data": {
      "text/plain": [
       "toxic\n",
       "0    201785\n",
       "1     21362\n",
       "Name: count, dtype: int64"
      ]
     },
     "execution_count": 54,
     "metadata": {},
     "output_type": "execute_result"
    }
   ],
   "source": [
    "data['toxic'].value_counts()"
   ]
  },
  {
   "cell_type": "markdown",
   "id": "63397a77",
   "metadata": {},
   "source": [
    "## Бэйзлайн модель"
   ]
  },
  {
   "cell_type": "code",
   "execution_count": 55,
   "id": "f315ace2",
   "metadata": {},
   "outputs": [],
   "source": [
    "text_features = ['comment_text'   ]"
   ]
  },
  {
   "cell_type": "code",
   "execution_count": 56,
   "id": "3fb0ea5e",
   "metadata": {},
   "outputs": [],
   "source": [
    "y = data['toxic']"
   ]
  },
  {
   "cell_type": "code",
   "execution_count": 57,
   "id": "aa326fab",
   "metadata": {},
   "outputs": [],
   "source": [
    "X = data.drop(['toxic','id'], axis = 1)"
   ]
  },
  {
   "cell_type": "code",
   "execution_count": 58,
   "id": "dc67be6c",
   "metadata": {},
   "outputs": [],
   "source": [
    "X = data.drop(['toxic','id'], axis = 1)\n",
    "X[text_features] = X[text_features].fillna('tbd')\n",
    "train_x, test_x, train_y, test_y = train_test_split(X, y,\n",
    "                                                   test_size=TEST_SIZE, random_state=RS,\n",
    "                                                   )\n",
    "print(data.shape), print(test_x.shape), print(test_x.shape),"
   ]
  },
  {
   "cell_type": "code",
   "execution_count": 59,
   "id": "987229ab",
   "metadata": {},
   "outputs": [],
   "source": [
    "train_x, test_x, train_y, test_y = train_test_split(X, y,\n",
    "                                                   test_size=TEST_SIZE, random_state=RS,\n",
    "                                                   )"
   ]
  },
  {
   "cell_type": "code",
   "execution_count": 60,
   "id": "f3e9b934",
   "metadata": {
    "scrolled": true
   },
   "outputs": [
    {
     "name": "stdout",
     "output_type": "stream",
     "text": [
      "(223147, 9)\n",
      "(55787, 7)\n",
      "(55787, 7)\n"
     ]
    },
    {
     "data": {
      "text/plain": [
       "(None, None, None)"
      ]
     },
     "execution_count": 60,
     "metadata": {},
     "output_type": "execute_result"
    }
   ],
   "source": [
    "print(data.shape), print(test_x.shape), print(test_x.shape),"
   ]
  },
  {
   "cell_type": "code",
   "execution_count": null,
   "id": "bd275e50",
   "metadata": {},
   "outputs": [],
   "source": []
  },
  {
   "cell_type": "code",
   "execution_count": 62,
   "id": "9dc31220",
   "metadata": {},
   "outputs": [
    {
     "name": "stdout",
     "output_type": "stream",
     "text": [
      "ERROR! Session/line number was not unique in database. History logging moved to new session 313\n"
     ]
    },
    {
     "data": {
      "application/vnd.jupyter.widget-view+json": {
       "model_id": "5a0367eea8564b6f992098da57870c0e",
       "version_major": 2,
       "version_minor": 0
      },
      "text/plain": [
       "MetricVisualizer(layout=Layout(align_self='stretch', height='500px'))"
      ]
     },
     "metadata": {},
     "output_type": "display_data"
    },
    {
     "data": {
      "text/plain": [
       "<catboost.core.CatBoostClassifier at 0x1c1b58b4c50>"
      ]
     },
     "execution_count": 62,
     "metadata": {},
     "output_type": "execute_result"
    }
   ],
   "source": [
    "model_cb = CatBoostClassifier(iterations=1689,\n",
    "                                depth = 6,\n",
    "                                loss_function='Logloss',\n",
    "                                thread_count=-1, \n",
    "                                random_seed=RANDOM_STATE, \n",
    "                                verbose=0, \n",
    "                                text_features=text_features,\n",
    "                                task_type = \"GPU\" \n",
    "                                \n",
    ")\n",
    "\n",
    "\n",
    "model_cb.fit(train_x, train_y, text_features=text_features, plot= True)\n"
   ]
  },
  {
   "cell_type": "code",
   "execution_count": 64,
   "id": "0996821b",
   "metadata": {},
   "outputs": [
    {
     "name": "stdout",
     "output_type": "stream",
     "text": [
      "\n",
      "              precision    recall  f1-score   support\n",
      "\n",
      "           0       0.95      0.98      0.97     50463\n",
      "           1       0.77      0.51      0.62      5324\n",
      "\n",
      "    accuracy                           0.94     55787\n",
      "   macro avg       0.86      0.75      0.79     55787\n",
      "weighted avg       0.93      0.94      0.93     55787\n",
      "\n",
      "\n",
      "Confusion Matrix\n",
      "\n",
      "[[49654   809]\n",
      " [ 2594  2730]]\n",
      "AUC ROC train:  0.9495036877950283\n",
      "AUC ROC test:  0.9240930169947101\n",
      "Root Mean Squared Error на тестовой выборке: 0.24698152668314743\n",
      "Mean Absolute Error на тестовой выборке: 0.06099987452273827\n",
      "R2 на тестовой выборке: 0.2933833862966866\n"
     ]
    }
   ],
   "source": [
    "test_pred = model_cb.predict(test_x)\n",
    "proba_test = model_cb.predict_proba(test_x)\n",
    "\n",
    "train_pred = model_cb.predict(train_x)\n",
    "proba_train = model_cb.predict_proba(train_x)\n",
    " \n",
    "test_pred = model_cb.predict(test_x)\n",
    "confusion = confusion_matrix(test_y, test_pred)\n",
    "print(CR + classification_report(test_y,test_pred)) \n",
    "\n",
    "print(CR + 'Confusion Matrix\\n')\n",
    "print(confusion)\n",
    "auc_tr = roc_auc_score(train_y, proba_train[:,1], multi_class='ovr')\n",
    "auc_test = roc_auc_score(test_y, proba_test[:,1], multi_class='ovr')\n",
    "print('AUC ROC train: ',auc_tr)\n",
    "print('AUC ROC test: ',auc_test)\n",
    "mse = mean_squared_error(test_y, test_pred)\n",
    "rmse = root_mean_squared_error(test_y, test_pred)\n",
    "mae = mean_absolute_error(test_y, test_pred)\n",
    "print(\"Root Mean Squared Error на тестовой выборке:\", rmse)\n",
    "print(\"Mean Absolute Error на тестовой выборке:\", mae)\n",
    "r2 = r2_score(test_y, test_pred)\n",
    "print(\"R2 на тестовой выборке:\", r2)"
   ]
  },
  {
   "cell_type": "code",
   "execution_count": null,
   "id": "198caa7a",
   "metadata": {},
   "outputs": [],
   "source": []
  },
  {
   "cell_type": "code",
   "execution_count": null,
   "id": "0e6a4e9a",
   "metadata": {},
   "outputs": [],
   "source": []
  },
  {
   "cell_type": "code",
   "execution_count": 85,
   "id": "933ab4c9",
   "metadata": {},
   "outputs": [
    {
     "data": {
      "text/plain": [
       "0    D'Оо! Он соответствует этому цвету фона, с кот...\n",
       "1    \"\\n\\nПоздравляю и меня, хорошо использую инстр...\n",
       "2    Смысл Mitsurugi не имеет смысла - почему бы не...\n",
       "3    О, и девушка выше начала свои споры со мной. О...\n",
       "4    До свидания!\\nНе смотри, приходи или думай о в...\n",
       "Name: comment_text, dtype: object"
      ]
     },
     "execution_count": 85,
     "metadata": {},
     "output_type": "execute_result"
    }
   ],
   "source": [
    "data['comment_text'].head()"
   ]
  },
  {
   "cell_type": "markdown",
   "id": "e6d93dcd",
   "metadata": {},
   "source": [
    "## Стоп-слова и пунктуация"
   ]
  },
  {
   "cell_type": "code",
   "execution_count": 86,
   "id": "770c1ccf",
   "metadata": {},
   "outputs": [],
   "source": [
    "data['comment_text'] = data['comment_text'].str.replace('\\n', '')\n"
   ]
  },
  {
   "cell_type": "code",
   "execution_count": 87,
   "id": "59b9de87",
   "metadata": {},
   "outputs": [
    {
     "data": {
      "text/plain": [
       "0    D'Оо! Он соответствует этому цвету фона, с кот...\n",
       "1    \"Поздравляю и меня, хорошо использую инструмен...\n",
       "2    Смысл Mitsurugi не имеет смысла - почему бы не...\n",
       "3    О, и девушка выше начала свои споры со мной. О...\n",
       "4    До свидания!Не смотри, приходи или думай о воз...\n",
       "Name: comment_text, dtype: object"
      ]
     },
     "execution_count": 87,
     "metadata": {},
     "output_type": "execute_result"
    }
   ],
   "source": [
    "data['comment_text'].head()"
   ]
  },
  {
   "cell_type": "code",
   "execution_count": 88,
   "id": "6c8d0477",
   "metadata": {
    "scrolled": true
   },
   "outputs": [],
   "source": [
    "regex = re.compile(\"[А-ЯЁа-яёA-Za-z!]+\")\n",
    "\n",
    "def get_rus_words_only(row, regex=regex):\n",
    "    try:\n",
    "        return \" \".join(regex.findall(row['comment_text']))\n",
    "    except:\n",
    "        return \"\"\n"
   ]
  },
  {
   "cell_type": "code",
   "execution_count": 89,
   "id": "19de7775",
   "metadata": {},
   "outputs": [
    {
     "data": {
      "text/plain": [
       "0    D Оо! Он соответствует этому цвету фона с кото...\n",
       "1    Поздравляю и меня хорошо использую инструменты...\n",
       "2    Смысл Mitsurugi не имеет смысла почему бы не п...\n",
       "3    О и девушка выше начала свои споры со мной Она...\n",
       "4    До свидания!Не смотри приходи или думай о возв...\n",
       "Name: only_text, dtype: object"
      ]
     },
     "execution_count": 89,
     "metadata": {},
     "output_type": "execute_result"
    }
   ],
   "source": [
    "data['only_text'] = data.apply(get_rus_words_only, axis = 1)\n",
    "data['only_text'].head()"
   ]
  },
  {
   "cell_type": "code",
   "execution_count": 73,
   "id": "f39e3ebc",
   "metadata": {},
   "outputs": [
    {
     "name": "stdout",
     "output_type": "stream",
     "text": [
      "['и', 'в', 'во', 'не', 'что', 'он', 'на', 'я', 'с', 'со', 'как', 'а', 'то', 'все', 'она', 'так', 'его', 'но', 'да', 'ты', 'к', 'у', 'же', 'вы', 'за', 'бы', 'по', 'только', 'ее', 'мне', 'было', 'вот', 'от', 'меня', 'еще', 'нет', 'о', 'из', 'ему', 'теперь', 'когда', 'даже', 'ну', 'вдруг', 'ли', 'если', 'уже', 'или', 'ни', 'быть', 'был', 'него', 'до', 'вас', 'нибудь', 'опять', 'уж', 'вам', 'ведь', 'там', 'потом', 'себя', 'ничего', 'ей', 'может', 'они', 'тут', 'где', 'есть', 'надо', 'ней', 'для', 'мы', 'тебя', 'их', 'чем', 'была', 'сам', 'чтоб', 'без', 'будто', 'чего', 'раз', 'тоже', 'себе', 'под', 'будет', 'ж', 'тогда', 'кто', 'этот', 'того', 'потому', 'этого', 'какой', 'совсем', 'ним', 'здесь', 'этом', 'один', 'почти', 'мой', 'тем', 'чтобы', 'нее', 'сейчас', 'были', 'куда', 'зачем', 'всех', 'никогда', 'можно', 'при', 'наконец', 'два', 'об', 'другой', 'хоть', 'после', 'над', 'больше', 'тот', 'через', 'эти', 'нас', 'про', 'всего', 'них', 'какая', 'много', 'разве', 'три', 'эту', 'моя', 'впрочем', 'хорошо', 'свою', 'этой', 'перед', 'иногда', 'лучше', 'чуть', 'том', 'нельзя', 'такой', 'им', 'более', 'всегда', 'конечно', 'всю', 'между']\n"
     ]
    }
   ],
   "source": [
    "print(stopwords.words('russian'))"
   ]
  },
  {
   "cell_type": "code",
   "execution_count": 74,
   "id": "017d1e7c",
   "metadata": {},
   "outputs": [
    {
     "data": {
      "text/plain": [
       "'!\"#$%&\\'()*+,-./:;<=>?@[\\\\]^_`{|}~'"
      ]
     },
     "execution_count": 74,
     "metadata": {},
     "output_type": "execute_result"
    }
   ],
   "source": [
    "punctuation"
   ]
  },
  {
   "cell_type": "code",
   "execution_count": 75,
   "id": "6401fd6f",
   "metadata": {},
   "outputs": [],
   "source": [
    "excl_list = ['хорошо', 'не', 'никогда','ничего', \"!\", 'нельзя' ]"
   ]
  },
  {
   "cell_type": "code",
   "execution_count": 76,
   "id": "404403fe",
   "metadata": {},
   "outputs": [
    {
     "data": {
      "text/plain": [
       "188"
      ]
     },
     "execution_count": 76,
     "metadata": {},
     "output_type": "execute_result"
    }
   ],
   "source": [
    "noise = stopwords.words('russian') + list(punctuation)+ ['``', \"''\",'--',\"//\", '/']\n",
    "len(noise)\n"
   ]
  },
  {
   "cell_type": "code",
   "execution_count": 77,
   "id": "ca945433",
   "metadata": {},
   "outputs": [
    {
     "data": {
      "text/plain": [
       "182"
      ]
     },
     "execution_count": 77,
     "metadata": {},
     "output_type": "execute_result"
    }
   ],
   "source": [
    "noise = [x for x in noise if x not in  excl_list]\n",
    "len(noise)"
   ]
  },
  {
   "cell_type": "code",
   "execution_count": 91,
   "id": "d89351b4",
   "metadata": {},
   "outputs": [
    {
     "data": {
      "text/plain": [
       "Index(['Unnamed: 0', 'id', 'comment_text', 'toxic', 'severe_toxic', 'obscene',\n",
       "       'threat', 'insult', 'identity_hate', 'only_text'],\n",
       "      dtype='object')"
      ]
     },
     "execution_count": 91,
     "metadata": {},
     "output_type": "execute_result"
    }
   ],
   "source": [
    "data.columns"
   ]
  },
  {
   "cell_type": "code",
   "execution_count": 95,
   "id": "4493bb41",
   "metadata": {},
   "outputs": [
    {
     "data": {
      "text/html": [
       "<div>\n",
       "<style scoped>\n",
       "    .dataframe tbody tr th:only-of-type {\n",
       "        vertical-align: middle;\n",
       "    }\n",
       "\n",
       "    .dataframe tbody tr th {\n",
       "        vertical-align: top;\n",
       "    }\n",
       "\n",
       "    .dataframe thead th {\n",
       "        text-align: right;\n",
       "    }\n",
       "</style>\n",
       "<table border=\"1\" class=\"dataframe\">\n",
       "  <thead>\n",
       "    <tr style=\"text-align: right;\">\n",
       "      <th></th>\n",
       "      <th>only_text</th>\n",
       "    </tr>\n",
       "  </thead>\n",
       "  <tbody>\n",
       "    <tr>\n",
       "      <th>0</th>\n",
       "      <td>D Оо! Он соответствует этому цвету фона с кото...</td>\n",
       "    </tr>\n",
       "    <tr>\n",
       "      <th>1</th>\n",
       "      <td>Поздравляю и меня хорошо использую инструменты...</td>\n",
       "    </tr>\n",
       "    <tr>\n",
       "      <th>2</th>\n",
       "      <td>Смысл Mitsurugi не имеет смысла почему бы не п...</td>\n",
       "    </tr>\n",
       "    <tr>\n",
       "      <th>3</th>\n",
       "      <td>О и девушка выше начала свои споры со мной Она...</td>\n",
       "    </tr>\n",
       "    <tr>\n",
       "      <th>4</th>\n",
       "      <td>До свидания!Не смотри приходи или думай о возв...</td>\n",
       "    </tr>\n",
       "  </tbody>\n",
       "</table>\n",
       "</div>"
      ],
      "text/plain": [
       "                                           only_text\n",
       "0  D Оо! Он соответствует этому цвету фона с кото...\n",
       "1  Поздравляю и меня хорошо использую инструменты...\n",
       "2  Смысл Mitsurugi не имеет смысла почему бы не п...\n",
       "3  О и девушка выше начала свои споры со мной Она...\n",
       "4  До свидания!Не смотри приходи или думай о возв..."
      ]
     },
     "execution_count": 95,
     "metadata": {},
     "output_type": "execute_result"
    }
   ],
   "source": [
    "X = data.drop(['Unnamed: 0', 'id', 'comment_text', 'toxic', 'severe_toxic', 'obscene',\n",
    "       'threat', 'insult', 'identity_hate', ], axis = 1)\n",
    "X.head()"
   ]
  },
  {
   "cell_type": "code",
   "execution_count": 96,
   "id": "3707219c",
   "metadata": {},
   "outputs": [
    {
     "name": "stdout",
     "output_type": "stream",
     "text": [
      "(223147, 10)\n",
      "(55787, 1)\n",
      "(55787, 1)\n"
     ]
    },
    {
     "data": {
      "text/plain": [
       "(None, None, None)"
      ]
     },
     "execution_count": 96,
     "metadata": {},
     "output_type": "execute_result"
    }
   ],
   "source": [
    "text_features = ['only_text']\n",
    "X[text_features] = X[text_features].fillna('tbd')\n",
    "train_x, test_x, train_y, test_y = train_test_split(X, y,\n",
    "                                                   test_size=TEST_SIZE, random_state=RS,\n",
    "                                                   )\n",
    "print(data.shape), print(test_x.shape), print(test_x.shape),"
   ]
  },
  {
   "cell_type": "code",
   "execution_count": 97,
   "id": "9035864a",
   "metadata": {},
   "outputs": [
    {
     "data": {
      "application/vnd.jupyter.widget-view+json": {
       "model_id": "a919486da2dd43d2aac04166ba35e898",
       "version_major": 2,
       "version_minor": 0
      },
      "text/plain": [
       "MetricVisualizer(layout=Layout(align_self='stretch', height='500px'))"
      ]
     },
     "metadata": {},
     "output_type": "display_data"
    },
    {
     "data": {
      "text/plain": [
       "<catboost.core.CatBoostClassifier at 0x1c1bc9c3c50>"
      ]
     },
     "execution_count": 97,
     "metadata": {},
     "output_type": "execute_result"
    }
   ],
   "source": [
    "model_cb = CatBoostClassifier(iterations=1689,\n",
    "                                depth = 6,\n",
    "                                loss_function='Logloss',\n",
    "                                thread_count=-1, \n",
    "                                random_seed=RANDOM_STATE, \n",
    "                                verbose=0, \n",
    "                                text_features=text_features,\n",
    "                                task_type = \"GPU\" \n",
    "                                \n",
    ")\n",
    "\n",
    "\n",
    "model_cb.fit(train_x, train_y, text_features=text_features, plot= True)\n"
   ]
  },
  {
   "cell_type": "code",
   "execution_count": 101,
   "id": "16650e6f",
   "metadata": {},
   "outputs": [
    {
     "name": "stdout",
     "output_type": "stream",
     "text": [
      "\n",
      "              precision    recall  f1-score   support\n",
      "\n",
      "           0       0.95      0.98      0.97     50463\n",
      "           1       0.77      0.56      0.65      5324\n",
      "\n",
      "    accuracy                           0.94     55787\n",
      "   macro avg       0.86      0.77      0.81     55787\n",
      "weighted avg       0.94      0.94      0.94     55787\n",
      "\n",
      "\n",
      "Confusion Matrix\n",
      "\n",
      "[[49590   873]\n",
      " [ 2356  2968]]\n",
      "AUC ROC train:  0.9576385292843745\n",
      "AUC ROC test:  0.9380503144935001\n",
      "Root Mean Squared Error на тестовой выборке: 0.24058443071539595\n",
      "Mean Absolute Error на тестовой выборке: 0.057880868302651156\n",
      "R2 на тестовой выборке: 0.3295136509997064\n"
     ]
    }
   ],
   "source": [
    "test_pred = model_cb.predict(test_x)\n",
    "proba_test = model_cb.predict_proba(test_x)\n",
    "\n",
    "train_pred = model_cb.predict(train_x)\n",
    "proba_train = model_cb.predict_proba(train_x)\n",
    " \n",
    "test_pred = model_cb.predict(test_x)\n",
    "confusion = confusion_matrix(test_y, test_pred)\n",
    "print(CR + classification_report(test_y,test_pred)) \n",
    "\n",
    "print(CR + 'Confusion Matrix\\n')\n",
    "print(confusion)\n",
    "auc_tr = roc_auc_score(train_y, proba_train[:,1])\n",
    "auc_test = roc_auc_score(test_y, proba_test[:,1])\n",
    "print('AUC ROC train: ',auc_tr)\n",
    "print('AUC ROC test: ',auc_test)\n",
    "mse = mean_squared_error(test_y, test_pred)\n",
    "rmse = root_mean_squared_error(test_y, test_pred)\n",
    "mae = mean_absolute_error(test_y, test_pred)\n",
    "print(\"Root Mean Squared Error на тестовой выборке:\", rmse)\n",
    "print(\"Mean Absolute Error на тестовой выборке:\", mae)\n",
    "r2 = r2_score(test_y, test_pred)\n",
    "print(\"R2 на тестовой выборке:\", r2)"
   ]
  },
  {
   "cell_type": "code",
   "execution_count": 100,
   "id": "194191af",
   "metadata": {},
   "outputs": [
    {
     "ename": "IndentationError",
     "evalue": "unindent does not match any outer indentation level (<tokenize>, line 4)",
     "output_type": "error",
     "traceback": [
      "\u001b[1;36m  File \u001b[1;32m<tokenize>:4\u001b[1;36m\u001b[0m\n\u001b[1;33m    0       0.95      0.98      0.97     50463\u001b[0m\n\u001b[1;37m    ^\u001b[0m\n\u001b[1;31mIndentationError\u001b[0m\u001b[1;31m:\u001b[0m unindent does not match any outer indentation level\n"
     ]
    }
   ],
   "source": [
    "```\n",
    "              precision    recall  f1-score   support\n",
    "\n",
    "           0       0.95      0.98      0.97     50463\n",
    "           1       0.77      0.51      0.62      5324\n",
    "\n",
    "    accuracy                           0.94     55787\n",
    "   macro avg       0.86      0.75      0.79     55787\n",
    "weighted avg       0.93      0.94      0.93     55787\n",
    "\n",
    "\n",
    "Confusion Matrix\n",
    "\n",
    "[[49654   809]\n",
    " [ 2594  2730]]\n",
    "AUC ROC train:  0.9495036877950283\n",
    "AUC ROC test:  0.9240930169947101\n",
    "Root Mean Squared Error на тестовой выборке: 0.24698152668314743\n",
    "Mean Absolute Error на тестовой выборке: 0.06099987452273827\n",
    "R2 на тестовой выборке: 0.2933833862966866\n",
    "    ```"
   ]
  },
  {
   "cell_type": "code",
   "execution_count": null,
   "id": "28fb2eb8",
   "metadata": {},
   "outputs": [],
   "source": []
  },
  {
   "cell_type": "code",
   "execution_count": null,
   "id": "62cf6aec",
   "metadata": {},
   "outputs": [],
   "source": []
  },
  {
   "cell_type": "code",
   "execution_count": null,
   "id": "dc76eda6",
   "metadata": {},
   "outputs": [],
   "source": []
  },
  {
   "cell_type": "code",
   "execution_count": null,
   "id": "987a8708",
   "metadata": {},
   "outputs": [],
   "source": []
  },
  {
   "cell_type": "code",
   "execution_count": null,
   "id": "7b1c0152",
   "metadata": {},
   "outputs": [],
   "source": []
  }
 ],
 "metadata": {
  "kernelspec": {
   "display_name": "Python 3 (ipykernel)",
   "language": "python",
   "name": "python3"
  },
  "language_info": {
   "codemirror_mode": {
    "name": "ipython",
    "version": 3
   },
   "file_extension": ".py",
   "mimetype": "text/x-python",
   "name": "python",
   "nbconvert_exporter": "python",
   "pygments_lexer": "ipython3",
   "version": "3.11.5"
  },
  "toc": {
   "base_numbering": 1,
   "nav_menu": {},
   "number_sections": true,
   "sideBar": true,
   "skip_h1_title": false,
   "title_cell": "Table of Contents",
   "title_sidebar": "Contents",
   "toc_cell": false,
   "toc_position": {},
   "toc_section_display": true,
   "toc_window_display": false
  }
 },
 "nbformat": 4,
 "nbformat_minor": 5
}
